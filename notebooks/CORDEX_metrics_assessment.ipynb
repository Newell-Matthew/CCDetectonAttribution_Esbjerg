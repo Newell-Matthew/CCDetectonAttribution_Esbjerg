{
 "cells": [
  {
   "cell_type": "code",
   "execution_count": 4,
   "id": "fbc6c357-5547-47a7-8dc3-7404c3cb0acb",
   "metadata": {},
   "outputs": [],
   "source": [
    "import xarray as xr\n",
    "import glob\n",
    "import matplotlib.pyplot as plt\n",
    "import geopandas as gpd\n",
    "import numpy as np\n",
    "import pandas as pd\n",
    "\n",
    "from scipy.stats import pearsonr"
   ]
  },
  {
   "cell_type": "code",
   "execution_count": 5,
   "id": "d60d856d",
   "metadata": {},
   "outputs": [],
   "source": [
    "#Select study domain\n",
    "lat_min, lat_max = 55.38, 56.01\n",
    "lon_min, lon_max = 8.15, 9.97"
   ]
  },
  {
   "cell_type": "code",
   "execution_count": 6,
   "id": "f28db1e7-eef1-4e4d-9177-7e8d4eac472d",
   "metadata": {},
   "outputs": [],
   "source": [
    "validation_dataset = xr.open_dataset('O:\\\\Man\\\\Public\\\\sharing-4270-CERM\\\\MATNEW\\\\Era5-Land\\\\Hourly_Data\\\\Precipitation\\\\era5_land_1950_2024_tp_daily_update_DK_regridCORDEX.nc')\n",
    "validation_dataset = validation_dataset.rename({\"tp\": \"pr\"})\n",
    "validation_dataset['pr'] = validation_dataset['pr'] *1000\n",
    "\n",
    "select_subset= (\n",
    "    (validation_dataset['lat'] >= lat_min) & (validation_dataset['lat'] <= lat_max) &\n",
    "    (validation_dataset['lon'] >= lon_min) & (validation_dataset['lon'] <= lon_max)\n",
    ")\n",
    "\n",
    "validation_dataset = validation_dataset.where(select_subset).dropna(dim=\"y\", how=\"all\").dropna(dim=\"x\", how=\"all\")"
   ]
  },
  {
   "cell_type": "code",
   "execution_count": 9,
   "id": "7f6e97eb-33ab-43e7-8118-28f520c89d9c",
   "metadata": {},
   "outputs": [],
   "source": [
    "unique_model_names = glob.glob('O:\\\\Man\\\\Public\\\\sharing-4270-CERM\\\\MATNEW\\\\Klimaatlas_CORDEX\\\\raw data\\\\new_bc\\\\datetime\\\\*.nc')"
   ]
  },
  {
   "cell_type": "code",
   "execution_count": 10,
   "id": "5c8d39db-e71f-4506-bb79-e8034767bb29",
   "metadata": {
    "scrolled": true
   },
   "outputs": [
    {
     "data": {
      "text/plain": [
       "['O:\\\\Man\\\\Public\\\\sharing-4270-CERM\\\\MATNEW\\\\Klimaatlas_CORDEX\\\\raw data\\\\new_bc\\\\datetime\\\\EUR-11_MOHC-HadGEM2-ES_rcp85_r1i1p1_GERICS-REMO2015_1951-2099_BC_Esbjerg.nc',\n",
       " 'O:\\\\Man\\\\Public\\\\sharing-4270-CERM\\\\MATNEW\\\\Klimaatlas_CORDEX\\\\raw data\\\\new_bc\\\\datetime\\\\EUR-11_MOHC-HadGEM2-ES_rcp85_r1i1p1_MOHC-HadREM3-GA7-05_1952-2098_BC_Esbjerg.nc',\n",
       " 'O:\\\\Man\\\\Public\\\\sharing-4270-CERM\\\\MATNEW\\\\Klimaatlas_CORDEX\\\\raw data\\\\new_bc\\\\datetime\\\\EUR-11_MOHC-HadGEM2-ES_rcp85_r1i1p1_CLMcom-CCLM4-8-17_1951-2099_BC_Esbjerg.nc',\n",
       " 'O:\\\\Man\\\\Public\\\\sharing-4270-CERM\\\\MATNEW\\\\Klimaatlas_CORDEX\\\\raw data\\\\new_bc\\\\datetime\\\\EUR-11_MOHC-HadGEM2-ES_rcp85_r1i1p1_SMHI-RCA4_1970-2099_BC_Esbjerg.nc',\n",
       " 'O:\\\\Man\\\\Public\\\\sharing-4270-CERM\\\\MATNEW\\\\Klimaatlas_CORDEX\\\\raw data\\\\new_bc\\\\datetime\\\\EUR-11_MOHC-HadGEM2-ES_rcp85_r1i1p1_KNMI-RACMO22E_1951-2099_BC_Esbjerg.nc',\n",
       " 'O:\\\\Man\\\\Public\\\\sharing-4270-CERM\\\\MATNEW\\\\Klimaatlas_CORDEX\\\\raw data\\\\new_bc\\\\datetime\\\\EUR-11_MOHC-HadGEM2-ES_rcp85_r1i1p1_ICTP-RegCM4-6_1981-2099_BC_Esbjerg.nc']"
      ]
     },
     "execution_count": 10,
     "metadata": {},
     "output_type": "execute_result"
    }
   ],
   "source": [
    "unique_model_names"
   ]
  },
  {
   "cell_type": "code",
   "execution_count": 11,
   "id": "195502ad",
   "metadata": {},
   "outputs": [
    {
     "data": {
      "text/plain": [
       "6"
      ]
     },
     "execution_count": 11,
     "metadata": {},
     "output_type": "execute_result"
    }
   ],
   "source": [
    "len(unique_model_names)"
   ]
  },
  {
   "cell_type": "code",
   "execution_count": 12,
   "id": "f31a4f27",
   "metadata": {},
   "outputs": [],
   "source": [
    "# Open multiple files and concatenate along 'time' dimension\n",
    "validation_ds = validation_dataset\n",
    "\n",
    "# Select data \n",
    "validation_ds_selected = validation_ds.sel(\n",
    "time=(\n",
    "    (validation_ds[\"time\"].dt.year >= 2011) &  \n",
    "    (validation_ds[\"time\"].dt.year <= 2024)  \n",
    "),\n",
    "drop=True  # Remove any missing data in the time range\n",
    ")\n",
    "\n",
    "val_annual_precipitation_sum = validation_ds_selected.resample(time=\"YE\").mean()\n",
    "val_annual_precipitation_mean = val_annual_precipitation_sum.mean(dim=\"time\")\n",
    "val_annual_precipitation_spatial_mean = val_annual_precipitation_mean.mean(dim=[\"y\", \"x\"])\n",
    "\n",
    "val_monthly_precipitation_sum = validation_ds_selected.resample(time=\"ME\").mean()\n",
    "val_monthly_precipitation_spatial_mean = val_monthly_precipitation_sum.groupby(\"time.month\").mean(dim=\"time\").mean(dim=[\"y\", \"x\"])\n"
   ]
  },
  {
   "cell_type": "code",
   "execution_count": 13,
   "id": "d16af974-ac26-4591-83b4-a756d6978e49",
   "metadata": {},
   "outputs": [],
   "source": [
    "model_outputs = {}"
   ]
  },
  {
   "cell_type": "code",
   "execution_count": 14,
   "id": "88c7364f-3781-4178-a116-1d47d56ddcf4",
   "metadata": {
    "scrolled": true
   },
   "outputs": [
    {
     "name": "stdout",
     "output_type": "stream",
     "text": [
      "O:\\Man\\Public\\sharing-4270-CERM\\MATNEW\\Klimaatlas_CORDEX\\raw data\\new_bc\\datetime\\EUR-11_MOHC-HadGEM2-ES_rcp85_r1i1p1_GERICS-REMO2015_1951-2099_BC_Esbjerg.nc\n",
      "Saved O:\\Man\\Public\\sharing-4270-CERM\\MATNEW\\Klimaatlas_CORDEX\\raw data\\new_bc\\datetime\\EUR-11_MOHC-HadGEM2-ES_rcp85_r1i1p1_GERICS-REMO2015_1951-2099_BC_Esbjerg.nc outputs.\n",
      "O:\\Man\\Public\\sharing-4270-CERM\\MATNEW\\Klimaatlas_CORDEX\\raw data\\new_bc\\datetime\\EUR-11_MOHC-HadGEM2-ES_rcp85_r1i1p1_MOHC-HadREM3-GA7-05_1952-2098_BC_Esbjerg.nc\n",
      "Saved O:\\Man\\Public\\sharing-4270-CERM\\MATNEW\\Klimaatlas_CORDEX\\raw data\\new_bc\\datetime\\EUR-11_MOHC-HadGEM2-ES_rcp85_r1i1p1_MOHC-HadREM3-GA7-05_1952-2098_BC_Esbjerg.nc outputs.\n",
      "O:\\Man\\Public\\sharing-4270-CERM\\MATNEW\\Klimaatlas_CORDEX\\raw data\\new_bc\\datetime\\EUR-11_MOHC-HadGEM2-ES_rcp85_r1i1p1_CLMcom-CCLM4-8-17_1951-2099_BC_Esbjerg.nc\n",
      "Saved O:\\Man\\Public\\sharing-4270-CERM\\MATNEW\\Klimaatlas_CORDEX\\raw data\\new_bc\\datetime\\EUR-11_MOHC-HadGEM2-ES_rcp85_r1i1p1_CLMcom-CCLM4-8-17_1951-2099_BC_Esbjerg.nc outputs.\n",
      "O:\\Man\\Public\\sharing-4270-CERM\\MATNEW\\Klimaatlas_CORDEX\\raw data\\new_bc\\datetime\\EUR-11_MOHC-HadGEM2-ES_rcp85_r1i1p1_SMHI-RCA4_1970-2099_BC_Esbjerg.nc\n",
      "Saved O:\\Man\\Public\\sharing-4270-CERM\\MATNEW\\Klimaatlas_CORDEX\\raw data\\new_bc\\datetime\\EUR-11_MOHC-HadGEM2-ES_rcp85_r1i1p1_SMHI-RCA4_1970-2099_BC_Esbjerg.nc outputs.\n",
      "O:\\Man\\Public\\sharing-4270-CERM\\MATNEW\\Klimaatlas_CORDEX\\raw data\\new_bc\\datetime\\EUR-11_MOHC-HadGEM2-ES_rcp85_r1i1p1_KNMI-RACMO22E_1951-2099_BC_Esbjerg.nc\n",
      "Saved O:\\Man\\Public\\sharing-4270-CERM\\MATNEW\\Klimaatlas_CORDEX\\raw data\\new_bc\\datetime\\EUR-11_MOHC-HadGEM2-ES_rcp85_r1i1p1_KNMI-RACMO22E_1951-2099_BC_Esbjerg.nc outputs.\n",
      "O:\\Man\\Public\\sharing-4270-CERM\\MATNEW\\Klimaatlas_CORDEX\\raw data\\new_bc\\datetime\\EUR-11_MOHC-HadGEM2-ES_rcp85_r1i1p1_ICTP-RegCM4-6_1981-2099_BC_Esbjerg.nc\n",
      "Saved O:\\Man\\Public\\sharing-4270-CERM\\MATNEW\\Klimaatlas_CORDEX\\raw data\\new_bc\\datetime\\EUR-11_MOHC-HadGEM2-ES_rcp85_r1i1p1_ICTP-RegCM4-6_1981-2099_BC_Esbjerg.nc outputs.\n",
      "CPU times: total: 3.12 s\n",
      "Wall time: 6.47 s\n"
     ]
    }
   ],
   "source": [
    "%%time\n",
    "for model in list(unique_model_names):\n",
    "    print(model)\n",
    "    # Open multiple files and concatenate along 'time' dimension\n",
    "    pr_ds = xr.open_dataset(model)\n",
    "\n",
    "    # Select data \n",
    "    pr_ds = pr_ds.sel(\n",
    "    time=(\n",
    "        (pr_ds[\"time\"].dt.year >= 2011) &  \n",
    "        (pr_ds[\"time\"].dt.year <= 2024)  \n",
    "    ),\n",
    "    drop=True  # Remove any missing data in the time range\n",
    "    )\n",
    "\n",
    "    #Indicator I (Relative difference in mean annual pecipitation)\n",
    "    model_annual_precipitation_sum = pr_ds.resample(time=\"YE\").mean()\n",
    "    model_annual_precipitation_mean = model_annual_precipitation_sum.mean(dim=\"time\")\n",
    "    model_annual_precipitation_spatial_mean = model_annual_precipitation_mean.mean(dim=[\"y\", \"x\"])\n",
    "    model_annual_rel_difference = abs(((model_annual_precipitation_spatial_mean - val_annual_precipitation_spatial_mean)/val_annual_precipitation_spatial_mean).pr.values.item()*100)\n",
    "    \n",
    "    #Indicator II (Mean absolute monthly deviation)\n",
    "    model_monthly_precipitation_sum = pr_ds.resample(time=\"ME\").mean()\n",
    "    model_monthly_precipitation_spatial_mean = model_monthly_precipitation_sum.groupby(\"time.month\").mean(dim=\"time\").mean(dim=[\"y\", \"x\"])\n",
    "    model_monthly_difference = 100 - np.abs((((np.abs(model_monthly_precipitation_spatial_mean - val_monthly_precipitation_spatial_mean).sum()/12)-val_annual_precipitation_spatial_mean)/val_annual_precipitation_spatial_mean).pr.values.item()*100)\n",
    "    \n",
    "    #Indicator III (Monthly temporal pattern)\n",
    "    #Calculate standard deviation ratio of monthly values\n",
    "    s_model = model_monthly_precipitation_spatial_mean.std()\n",
    "    s_cal = val_monthly_precipitation_spatial_mean.std()\n",
    "    s = s_cal / s_model\n",
    "    s = s.pr.values\n",
    "    \n",
    "    #Calculate correlation of monthly values\n",
    "    r, _= pearsonr(model_monthly_precipitation_spatial_mean.pr.values.flatten(), \n",
    "                   val_monthly_precipitation_spatial_mean.pr.values.flatten())\n",
    "    \n",
    "    #Calculate KGE (Indicator III)\n",
    "    KGE = 1-((r-1)**2 + (s-1)**2)\n",
    "    \n",
    "    mask = ~np.isnan(model_annual_precipitation_mean.pr.values.flatten())\n",
    "    \n",
    "    #Indicator IV (Spatial correlation of annual means)\n",
    "    correlation, _ = pearsonr(model_annual_precipitation_mean.pr.values.flatten()[mask],\n",
    "                              val_annual_precipitation_mean.pr.values.flatten()[mask])\n",
    "    \n",
    "    # Store the spatial mean in the dictionary\n",
    "    model_outputs[model] = {\n",
    "        'Indicator I': model_annual_rel_difference,\n",
    "        'Indicator II': model_monthly_difference,\n",
    "        'Indicator III' : KGE,\n",
    "        'Indicator IV' : correlation\n",
    "    }\n",
    "    \n",
    "    print(f\"Saved {model} outputs.\")\n",
    "    \n"
   ]
  },
  {
   "cell_type": "code",
   "execution_count": 15,
   "id": "e0969f70",
   "metadata": {},
   "outputs": [
    {
     "data": {
      "text/plain": [
       "{'O:\\\\Man\\\\Public\\\\sharing-4270-CERM\\\\MATNEW\\\\Klimaatlas_CORDEX\\\\raw data\\\\new_bc\\\\datetime\\\\EUR-11_MOHC-HadGEM2-ES_rcp85_r1i1p1_GERICS-REMO2015_1951-2099_BC_Esbjerg.nc': {'Indicator I': 0.6953710754285948,\n",
       "  'Indicator II': 12.889039983343338,\n",
       "  'Indicator III': 0.7905371713802337,\n",
       "  'Indicator IV': 0.9756712719190817},\n",
       " 'O:\\\\Man\\\\Public\\\\sharing-4270-CERM\\\\MATNEW\\\\Klimaatlas_CORDEX\\\\raw data\\\\new_bc\\\\datetime\\\\EUR-11_MOHC-HadGEM2-ES_rcp85_r1i1p1_MOHC-HadREM3-GA7-05_1952-2098_BC_Esbjerg.nc': {'Indicator I': 2.8722274451684577,\n",
       "  'Indicator II': 13.262605307139111,\n",
       "  'Indicator III': 0.8883291956386292,\n",
       "  'Indicator IV': 0.9815288038801369},\n",
       " 'O:\\\\Man\\\\Public\\\\sharing-4270-CERM\\\\MATNEW\\\\Klimaatlas_CORDEX\\\\raw data\\\\new_bc\\\\datetime\\\\EUR-11_MOHC-HadGEM2-ES_rcp85_r1i1p1_CLMcom-CCLM4-8-17_1951-2099_BC_Esbjerg.nc': {'Indicator I': 9.872992480717032,\n",
       "  'Indicator II': 17.412125146665815,\n",
       "  'Indicator III': 0.7694743098532957,\n",
       "  'Indicator IV': 0.9857293890723025},\n",
       " 'O:\\\\Man\\\\Public\\\\sharing-4270-CERM\\\\MATNEW\\\\Klimaatlas_CORDEX\\\\raw data\\\\new_bc\\\\datetime\\\\EUR-11_MOHC-HadGEM2-ES_rcp85_r1i1p1_SMHI-RCA4_1970-2099_BC_Esbjerg.nc': {'Indicator I': 3.8358898778897776,\n",
       "  'Indicator II': 10.083637481311612,\n",
       "  'Indicator III': 0.937344986696594,\n",
       "  'Indicator IV': 0.9893613603898086},\n",
       " 'O:\\\\Man\\\\Public\\\\sharing-4270-CERM\\\\MATNEW\\\\Klimaatlas_CORDEX\\\\raw data\\\\new_bc\\\\datetime\\\\EUR-11_MOHC-HadGEM2-ES_rcp85_r1i1p1_KNMI-RACMO22E_1951-2099_BC_Esbjerg.nc': {'Indicator I': 1.2261163203789758,\n",
       "  'Indicator II': 9.99667741771249,\n",
       "  'Indicator III': 0.9440049666515424,\n",
       "  'Indicator IV': 0.9893375745458164},\n",
       " 'O:\\\\Man\\\\Public\\\\sharing-4270-CERM\\\\MATNEW\\\\Klimaatlas_CORDEX\\\\raw data\\\\new_bc\\\\datetime\\\\EUR-11_MOHC-HadGEM2-ES_rcp85_r1i1p1_ICTP-RegCM4-6_1981-2099_BC_Esbjerg.nc': {'Indicator I': 2.765221188253244,\n",
       "  'Indicator II': 14.29310725485216,\n",
       "  'Indicator III': 0.8669179049747711,\n",
       "  'Indicator IV': 0.973652244831392}}"
      ]
     },
     "execution_count": 15,
     "metadata": {},
     "output_type": "execute_result"
    }
   ],
   "source": [
    "model_outputs"
   ]
  },
  {
   "cell_type": "code",
   "execution_count": 16,
   "id": "a2b15535",
   "metadata": {},
   "outputs": [],
   "source": [
    "#Save model_outputs to pandas dataframe\n",
    "model_outputs_df = pd.DataFrame.from_dict(model_outputs, orient='index')"
   ]
  },
  {
   "cell_type": "code",
   "execution_count": 17,
   "id": "6045ee72",
   "metadata": {},
   "outputs": [
    {
     "data": {
      "text/html": [
       "<div>\n",
       "<style scoped>\n",
       "    .dataframe tbody tr th:only-of-type {\n",
       "        vertical-align: middle;\n",
       "    }\n",
       "\n",
       "    .dataframe tbody tr th {\n",
       "        vertical-align: top;\n",
       "    }\n",
       "\n",
       "    .dataframe thead th {\n",
       "        text-align: right;\n",
       "    }\n",
       "</style>\n",
       "<table border=\"1\" class=\"dataframe\">\n",
       "  <thead>\n",
       "    <tr style=\"text-align: right;\">\n",
       "      <th></th>\n",
       "      <th>Indicator I</th>\n",
       "      <th>Indicator II</th>\n",
       "      <th>Indicator III</th>\n",
       "      <th>Indicator IV</th>\n",
       "    </tr>\n",
       "  </thead>\n",
       "  <tbody>\n",
       "    <tr>\n",
       "      <th>O:\\Man\\Public\\sharing-4270-CERM\\MATNEW\\Klimaatlas_CORDEX\\raw data\\new_bc\\datetime\\EUR-11_MOHC-HadGEM2-ES_rcp85_r1i1p1_GERICS-REMO2015_1951-2099_BC_Esbjerg.nc</th>\n",
       "      <td>0.695371</td>\n",
       "      <td>12.889040</td>\n",
       "      <td>0.790537</td>\n",
       "      <td>0.975671</td>\n",
       "    </tr>\n",
       "    <tr>\n",
       "      <th>O:\\Man\\Public\\sharing-4270-CERM\\MATNEW\\Klimaatlas_CORDEX\\raw data\\new_bc\\datetime\\EUR-11_MOHC-HadGEM2-ES_rcp85_r1i1p1_MOHC-HadREM3-GA7-05_1952-2098_BC_Esbjerg.nc</th>\n",
       "      <td>2.872227</td>\n",
       "      <td>13.262605</td>\n",
       "      <td>0.888329</td>\n",
       "      <td>0.981529</td>\n",
       "    </tr>\n",
       "    <tr>\n",
       "      <th>O:\\Man\\Public\\sharing-4270-CERM\\MATNEW\\Klimaatlas_CORDEX\\raw data\\new_bc\\datetime\\EUR-11_MOHC-HadGEM2-ES_rcp85_r1i1p1_CLMcom-CCLM4-8-17_1951-2099_BC_Esbjerg.nc</th>\n",
       "      <td>9.872992</td>\n",
       "      <td>17.412125</td>\n",
       "      <td>0.769474</td>\n",
       "      <td>0.985729</td>\n",
       "    </tr>\n",
       "    <tr>\n",
       "      <th>O:\\Man\\Public\\sharing-4270-CERM\\MATNEW\\Klimaatlas_CORDEX\\raw data\\new_bc\\datetime\\EUR-11_MOHC-HadGEM2-ES_rcp85_r1i1p1_SMHI-RCA4_1970-2099_BC_Esbjerg.nc</th>\n",
       "      <td>3.835890</td>\n",
       "      <td>10.083637</td>\n",
       "      <td>0.937345</td>\n",
       "      <td>0.989361</td>\n",
       "    </tr>\n",
       "    <tr>\n",
       "      <th>O:\\Man\\Public\\sharing-4270-CERM\\MATNEW\\Klimaatlas_CORDEX\\raw data\\new_bc\\datetime\\EUR-11_MOHC-HadGEM2-ES_rcp85_r1i1p1_KNMI-RACMO22E_1951-2099_BC_Esbjerg.nc</th>\n",
       "      <td>1.226116</td>\n",
       "      <td>9.996677</td>\n",
       "      <td>0.944005</td>\n",
       "      <td>0.989338</td>\n",
       "    </tr>\n",
       "    <tr>\n",
       "      <th>O:\\Man\\Public\\sharing-4270-CERM\\MATNEW\\Klimaatlas_CORDEX\\raw data\\new_bc\\datetime\\EUR-11_MOHC-HadGEM2-ES_rcp85_r1i1p1_ICTP-RegCM4-6_1981-2099_BC_Esbjerg.nc</th>\n",
       "      <td>2.765221</td>\n",
       "      <td>14.293107</td>\n",
       "      <td>0.866918</td>\n",
       "      <td>0.973652</td>\n",
       "    </tr>\n",
       "  </tbody>\n",
       "</table>\n",
       "</div>"
      ],
      "text/plain": [
       "                                                    Indicator I  Indicator II  \\\n",
       "O:\\Man\\Public\\sharing-4270-CERM\\MATNEW\\Klimaatl...     0.695371     12.889040   \n",
       "O:\\Man\\Public\\sharing-4270-CERM\\MATNEW\\Klimaatl...     2.872227     13.262605   \n",
       "O:\\Man\\Public\\sharing-4270-CERM\\MATNEW\\Klimaatl...     9.872992     17.412125   \n",
       "O:\\Man\\Public\\sharing-4270-CERM\\MATNEW\\Klimaatl...     3.835890     10.083637   \n",
       "O:\\Man\\Public\\sharing-4270-CERM\\MATNEW\\Klimaatl...     1.226116      9.996677   \n",
       "O:\\Man\\Public\\sharing-4270-CERM\\MATNEW\\Klimaatl...     2.765221     14.293107   \n",
       "\n",
       "                                                    Indicator III  \\\n",
       "O:\\Man\\Public\\sharing-4270-CERM\\MATNEW\\Klimaatl...       0.790537   \n",
       "O:\\Man\\Public\\sharing-4270-CERM\\MATNEW\\Klimaatl...       0.888329   \n",
       "O:\\Man\\Public\\sharing-4270-CERM\\MATNEW\\Klimaatl...       0.769474   \n",
       "O:\\Man\\Public\\sharing-4270-CERM\\MATNEW\\Klimaatl...       0.937345   \n",
       "O:\\Man\\Public\\sharing-4270-CERM\\MATNEW\\Klimaatl...       0.944005   \n",
       "O:\\Man\\Public\\sharing-4270-CERM\\MATNEW\\Klimaatl...       0.866918   \n",
       "\n",
       "                                                    Indicator IV  \n",
       "O:\\Man\\Public\\sharing-4270-CERM\\MATNEW\\Klimaatl...      0.975671  \n",
       "O:\\Man\\Public\\sharing-4270-CERM\\MATNEW\\Klimaatl...      0.981529  \n",
       "O:\\Man\\Public\\sharing-4270-CERM\\MATNEW\\Klimaatl...      0.985729  \n",
       "O:\\Man\\Public\\sharing-4270-CERM\\MATNEW\\Klimaatl...      0.989361  \n",
       "O:\\Man\\Public\\sharing-4270-CERM\\MATNEW\\Klimaatl...      0.989338  \n",
       "O:\\Man\\Public\\sharing-4270-CERM\\MATNEW\\Klimaatl...      0.973652  "
      ]
     },
     "execution_count": 17,
     "metadata": {},
     "output_type": "execute_result"
    }
   ],
   "source": [
    "model_outputs_df"
   ]
  },
  {
   "cell_type": "code",
   "execution_count": 15,
   "id": "4b551e5a",
   "metadata": {},
   "outputs": [],
   "source": [
    "# Save to Excel\n",
    "model_outputs_df.to_csv(\"O:\\\\Man\\\\Public\\\\sharing-4270-CERM\\\\MATNEW\\\\Klimaatlas_CORDEX\\\\raw data\\\\CORDEX_pr_indicators.csv\")"
   ]
  }
 ],
 "metadata": {
  "kernelspec": {
   "display_name": "Python (3.11.9)",
   "language": "python",
   "name": "python-3.11.9"
  },
  "language_info": {
   "codemirror_mode": {
    "name": "ipython",
    "version": 3
   },
   "file_extension": ".py",
   "mimetype": "text/x-python",
   "name": "python",
   "nbconvert_exporter": "python",
   "pygments_lexer": "ipython3",
   "version": "3.10.7"
  }
 },
 "nbformat": 4,
 "nbformat_minor": 5
}
