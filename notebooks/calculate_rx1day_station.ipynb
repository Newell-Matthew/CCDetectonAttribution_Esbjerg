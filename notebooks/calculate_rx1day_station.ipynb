{
 "cells": [
  {
   "cell_type": "code",
   "execution_count": 2,
   "id": "1ede00b4",
   "metadata": {},
   "outputs": [],
   "source": [
    "import numpy as np\n",
    "import pandas as pd\n",
    "import xarray as xr\n",
    "import glob\n",
    "\n",
    "import matplotlib.pyplot as plt"
   ]
  },
  {
   "cell_type": "code",
   "execution_count": 3,
   "id": "6efdfaf8",
   "metadata": {},
   "outputs": [],
   "source": [
    "# Read the CSV file\n",
    "df = pd.read_csv(\"O:\\\\Man\\\\Public\\\\sharing-4270-CERM\\\\MATNEW\\\\DMI Long Data Series\\\\1876 Data\\\\DMIRep21-02\\\\dk_daily_pr_esbjerg_blended_1874_2025.csv\", delimiter = ';')"
   ]
  },
  {
   "cell_type": "code",
   "execution_count": 4,
   "id": "8c654de7",
   "metadata": {},
   "outputs": [
    {
     "data": {
      "text/html": [
       "<div>\n",
       "<style scoped>\n",
       "    .dataframe tbody tr th:only-of-type {\n",
       "        vertical-align: middle;\n",
       "    }\n",
       "\n",
       "    .dataframe tbody tr th {\n",
       "        vertical-align: top;\n",
       "    }\n",
       "\n",
       "    .dataframe thead th {\n",
       "        text-align: right;\n",
       "    }\n",
       "</style>\n",
       "<table border=\"1\" class=\"dataframe\">\n",
       "  <thead>\n",
       "    <tr style=\"text-align: right;\">\n",
       "      <th></th>\n",
       "      <th>stat_no</th>\n",
       "      <th>year</th>\n",
       "      <th>month</th>\n",
       "      <th>day</th>\n",
       "      <th>hour</th>\n",
       "      <th>pr</th>\n",
       "    </tr>\n",
       "  </thead>\n",
       "  <tbody>\n",
       "    <tr>\n",
       "      <th>0</th>\n",
       "      <td>25140</td>\n",
       "      <td>1874</td>\n",
       "      <td>1</td>\n",
       "      <td>1</td>\n",
       "      <td>8</td>\n",
       "      <td>1.3</td>\n",
       "    </tr>\n",
       "    <tr>\n",
       "      <th>1</th>\n",
       "      <td>25140</td>\n",
       "      <td>1874</td>\n",
       "      <td>1</td>\n",
       "      <td>2</td>\n",
       "      <td>8</td>\n",
       "      <td>1.0</td>\n",
       "    </tr>\n",
       "    <tr>\n",
       "      <th>2</th>\n",
       "      <td>25140</td>\n",
       "      <td>1874</td>\n",
       "      <td>1</td>\n",
       "      <td>3</td>\n",
       "      <td>8</td>\n",
       "      <td>2.3</td>\n",
       "    </tr>\n",
       "    <tr>\n",
       "      <th>3</th>\n",
       "      <td>25140</td>\n",
       "      <td>1874</td>\n",
       "      <td>1</td>\n",
       "      <td>4</td>\n",
       "      <td>8</td>\n",
       "      <td>6.8</td>\n",
       "    </tr>\n",
       "    <tr>\n",
       "      <th>4</th>\n",
       "      <td>25140</td>\n",
       "      <td>1874</td>\n",
       "      <td>1</td>\n",
       "      <td>5</td>\n",
       "      <td>8</td>\n",
       "      <td>3.7</td>\n",
       "    </tr>\n",
       "    <tr>\n",
       "      <th>...</th>\n",
       "      <td>...</td>\n",
       "      <td>...</td>\n",
       "      <td>...</td>\n",
       "      <td>...</td>\n",
       "      <td>...</td>\n",
       "      <td>...</td>\n",
       "    </tr>\n",
       "    <tr>\n",
       "      <th>55207</th>\n",
       "      <td>534020</td>\n",
       "      <td>2025</td>\n",
       "      <td>2</td>\n",
       "      <td>24</td>\n",
       "      <td>23</td>\n",
       "      <td>19.6</td>\n",
       "    </tr>\n",
       "    <tr>\n",
       "      <th>55208</th>\n",
       "      <td>534020</td>\n",
       "      <td>2025</td>\n",
       "      <td>2</td>\n",
       "      <td>25</td>\n",
       "      <td>23</td>\n",
       "      <td>1.0</td>\n",
       "    </tr>\n",
       "    <tr>\n",
       "      <th>55209</th>\n",
       "      <td>534020</td>\n",
       "      <td>2025</td>\n",
       "      <td>2</td>\n",
       "      <td>26</td>\n",
       "      <td>23</td>\n",
       "      <td>0.2</td>\n",
       "    </tr>\n",
       "    <tr>\n",
       "      <th>55210</th>\n",
       "      <td>534020</td>\n",
       "      <td>2025</td>\n",
       "      <td>2</td>\n",
       "      <td>27</td>\n",
       "      <td>23</td>\n",
       "      <td>0.8</td>\n",
       "    </tr>\n",
       "    <tr>\n",
       "      <th>55211</th>\n",
       "      <td>534020</td>\n",
       "      <td>2025</td>\n",
       "      <td>2</td>\n",
       "      <td>28</td>\n",
       "      <td>23</td>\n",
       "      <td>0.0</td>\n",
       "    </tr>\n",
       "  </tbody>\n",
       "</table>\n",
       "<p>55212 rows × 6 columns</p>\n",
       "</div>"
      ],
      "text/plain": [
       "       stat_no  year  month  day  hour    pr\n",
       "0        25140  1874      1    1     8   1.3\n",
       "1        25140  1874      1    2     8   1.0\n",
       "2        25140  1874      1    3     8   2.3\n",
       "3        25140  1874      1    4     8   6.8\n",
       "4        25140  1874      1    5     8   3.7\n",
       "...        ...   ...    ...  ...   ...   ...\n",
       "55207   534020  2025      2   24    23  19.6\n",
       "55208   534020  2025      2   25    23   1.0\n",
       "55209   534020  2025      2   26    23   0.2\n",
       "55210   534020  2025      2   27    23   0.8\n",
       "55211   534020  2025      2   28    23   0.0\n",
       "\n",
       "[55212 rows x 6 columns]"
      ]
     },
     "execution_count": 4,
     "metadata": {},
     "output_type": "execute_result"
    }
   ],
   "source": [
    "df"
   ]
  },
  {
   "cell_type": "code",
   "execution_count": 5,
   "id": "2cf49d2b",
   "metadata": {},
   "outputs": [],
   "source": [
    "# Filter data between 1874 and 2024\n",
    "df = df[(df[\"year\"] >= 1874) & (df[\"year\"] <= 2024)]"
   ]
  },
  {
   "cell_type": "code",
   "execution_count": 6,
   "id": "8e1151b7",
   "metadata": {},
   "outputs": [],
   "source": [
    "# Filter data between May and September\n",
    "#df = df[df['month'].isin([5, 6, 7, 8, 9])]"
   ]
  },
  {
   "cell_type": "code",
   "execution_count": 7,
   "id": "5247fa87",
   "metadata": {},
   "outputs": [],
   "source": [
    "# Find maximum 'pr' for each unique 'year'\n",
    "max_pr_per_year = df.groupby(\"year\")[\"pr\"].max().reset_index()"
   ]
  },
  {
   "cell_type": "code",
   "execution_count": 8,
   "id": "58470cf0",
   "metadata": {
    "scrolled": false
   },
   "outputs": [],
   "source": [
    "max_pr_per_year.to_csv('O:\\\\Man\\\\Public\\\\sharing-4270-CERM\\\\MATNEW\\\\CC_det_attr\\\\Time Series CSV\\\\annual_max_pr_station_annual.csv', index=False, sep = ';')"
   ]
  },
  {
   "cell_type": "code",
   "execution_count": 9,
   "id": "72de29f7",
   "metadata": {},
   "outputs": [],
   "source": [
    "#Import GMST anomalies (relative to 1850-1900)\n",
    "#Pathway to GMST \n",
    "GMST_file_path = glob.glob(f\"O:\\\\Man\\\\Public\\\\sharing-4270-CERM\\\\MATNEW\\\\Berkeley_GMST\\\\*anomalies.nc\")\n",
    "    \n",
    "#Open GMST file\n",
    "GMST_ds = xr.open_dataset(GMST_file_path[0])\n",
    "    \n",
    "#Create year variable \n",
    "GMST_ds['year'] = GMST_ds['time']\n",
    "    \n",
    "#Calculate rolling mean\n",
    "GMST_ds['tas'] = GMST_ds.temperature.rolling(time=4).mean()\n",
    "    \n",
    "# Select data \n",
    "GMST_ds = GMST_ds.sel(\n",
    "time=(\n",
    "(GMST_ds[\"year\"] >= 1874) &  \n",
    "(GMST_ds[\"year\"] <= 2024)  \n",
    "), drop = True)\n",
    "    \n",
    "#Save to dataframe\n",
    "GMST_df = GMST_ds.tas.to_dataframe().reset_index()"
   ]
  },
  {
   "cell_type": "code",
   "execution_count": 16,
   "id": "6fff3be0",
   "metadata": {},
   "outputs": [
    {
     "data": {
      "image/png": "[encoded data removed]",
      "text/plain": [
       "<Figure size 800x600 with 1 Axes>"
      ]
     },
     "metadata": {},
     "output_type": "display_data"
    }
   ],
   "source": [
    "# Create the plot\n",
    "plt.figure(figsize=(8, 6))\n",
    "plt.scatter(GMST_df.tas, max_pr_per_year.pr, color='blue', marker = '*', label='Rx1day')\n",
    "\n",
    "# Adding labels and title\n",
    "plt.xlabel('GMST (°C)')\n",
    "plt.ylabel('Rx1day (mm) ')\n",
    "plt.title('GMST vs Rx1day')\n",
    "\n",
    "# Add a legend\n",
    "plt.legend()\n",
    "\n",
    "# Show the plot\n",
    "plt.grid(True)\n",
    "plt.tight_layout()\n",
    "plt.show()"
   ]
  },
  {
   "cell_type": "code",
   "execution_count": null,
   "id": "f4bcdff4",
   "metadata": {},
   "outputs": [],
   "source": []
  }
 ],
 "metadata": {
  "kernelspec": {
   "display_name": "Python (3.11.9)",
   "language": "python",
   "name": "python-3.11.9"
  },
  "language_info": {
   "codemirror_mode": {
    "name": "ipython",
    "version": 3
   },
   "file_extension": ".py",
   "mimetype": "text/x-python",
   "name": "python",
   "nbconvert_exporter": "python",
   "pygments_lexer": "ipython3",
   "version": "3.10.7"
  }
 },
 "nbformat": 4,
 "nbformat_minor": 5
}
