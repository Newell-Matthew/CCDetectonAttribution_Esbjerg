{
 "cells": [
  {
   "cell_type": "code",
   "execution_count": null,
   "id": "aa47742f",
   "metadata": {},
   "outputs": [],
   "source": [
    "import os\n",
    "import re\n",
    "import xarray as xr\n",
    "import glob\n",
    "import dask\n",
    "import cftime\n",
    "import netCDF4\n",
    "import geopandas as gpd\n",
    "\n",
    "from dask.distributed import LocalCluster, Client\n"
   ]
  },
  {
   "cell_type": "code",
   "execution_count": null,
   "id": "3b24ea54",
   "metadata": {},
   "outputs": [],
   "source": [
    "cluster = LocalCluster()"
   ]
  },
  {
   "cell_type": "code",
   "execution_count": null,
   "id": "fea6ba4c",
   "metadata": {},
   "outputs": [],
   "source": [
    "client = Client(cluster)"
   ]
  },
  {
   "cell_type": "code",
   "execution_count": null,
   "id": "8298180f",
   "metadata": {},
   "outputs": [],
   "source": [
    "client"
   ]
  },
  {
   "cell_type": "code",
   "execution_count": null,
   "id": "1a55ae31",
   "metadata": {},
   "outputs": [],
   "source": [
    "# Define a function to standardize time\n",
    "def standardize_time(ds):\n",
    "    \"\"\"\n",
    "    Decode and standardize the time variable for a single dataset.\n",
    "    \"\"\"\n",
    "    if 'time' in ds.variables:\n",
    "        # Get the time attributes\n",
    "        time_units = ds.time.attrs.get('units', None)\n",
    "        calendar = ds.time.attrs.get('calendar', 'standard')\n",
    "        \n",
    "        # Decode the time variable\n",
    "        if time_units is not None:\n",
    "            decoded_times = cftime.num2date(ds.time.values, units=time_units, calendar=calendar)'\n",
    "        \n",
    "        # Assign back to the dataset\n",
    "        ds['time'] = ('time', decoded_times)\n",
    "\n",
    "    return ds"
   ]
  },
  {
   "cell_type": "code",
   "execution_count": 1,
   "id": "156445b4",
   "metadata": {},
   "outputs": [],
   "source": [
    "# Ensembles of ClimEx\n",
    "string = 'kbi  kbh  kbg  kbf  kbe  kbd  kbc  kbb  kba  kcx  kcw  kcv  kcu  kct  kcs  kcr  kcq  kcp  kco  kcn  kcm  kcl  kck  kcj  kci  kch  kcg  kcf  kce  kcd  kcc  kcb  kca  kbz  kby  kbx  kbw  kbv  kbu  kbt  kbs  kbr  kbq  kbp  kbo  kbn  kbm  kbl  kbk  kbj  '\n",
    "ensembles = string.split( )\n",
    "ensembles.sort()"
   ]
  },
  {
   "cell_type": "code",
   "execution_count": 4,
   "id": "e10d22a8",
   "metadata": {
    "scrolled": true
   },
   "outputs": [
    {
     "data": {
      "text/plain": [
       "['kba',\n",
       " 'kbb',\n",
       " 'kbc',\n",
       " 'kbd',\n",
       " 'kbe',\n",
       " 'kbf',\n",
       " 'kbg',\n",
       " 'kbh',\n",
       " 'kbi',\n",
       " 'kbj',\n",
       " 'kbk',\n",
       " 'kbl',\n",
       " 'kbm',\n",
       " 'kbn',\n",
       " 'kbo',\n",
       " 'kbp',\n",
       " 'kbq',\n",
       " 'kbr',\n",
       " 'kbs',\n",
       " 'kbt',\n",
       " 'kbu',\n",
       " 'kbv',\n",
       " 'kbw',\n",
       " 'kbx',\n",
       " 'kby',\n",
       " 'kbz',\n",
       " 'kca',\n",
       " 'kcb',\n",
       " 'kcc',\n",
       " 'kcd',\n",
       " 'kce',\n",
       " 'kcf',\n",
       " 'kcg',\n",
       " 'kch',\n",
       " 'kci',\n",
       " 'kcj',\n",
       " 'kck',\n",
       " 'kcl',\n",
       " 'kcm',\n",
       " 'kcn',\n",
       " 'kco',\n",
       " 'kcp',\n",
       " 'kcq',\n",
       " 'kcr',\n",
       " 'kcs',\n",
       " 'kct',\n",
       " 'kcu',\n",
       " 'kcv',\n",
       " 'kcw',\n",
       " 'kcx']"
      ]
     },
     "execution_count": 4,
     "metadata": {},
     "output_type": "execute_result"
    }
   ],
   "source": [
    "ensembles"
   ]
  },
  {
   "cell_type": "code",
   "execution_count": null,
   "id": "7b21dc2e",
   "metadata": {},
   "outputs": [],
   "source": [
    "# Paths\n",
    "path = \"O:/Man/Public/sharing-4270-CERM/VLYMI/CLIMEX/GlobusDownload/pr/\" "
   ]
  },
  {
   "cell_type": "code",
   "execution_count": null,
   "id": "50977cc1",
   "metadata": {},
   "outputs": [],
   "source": [
    "%%time\n",
    "for i, ens in enumerate(ensembles):\n",
    "    print(ens)\n",
    "    \n",
    "    #Grab files\n",
    "    files = glob.glob(path + ens + \"/*/pr_*\")\n",
    "    \n",
    "    # Define your latitude and longitude bounds\n",
    "    lat_min, lat_max = 3.5, 7.5\n",
    "    lon_min, lon_max = -6, -1.5\n",
    "    \n",
    "    #Modify time variable and save datasets to list\n",
    "    datasets = []\n",
    "    for file in files:\n",
    "        # Open dataset with chunking (lazy loading)\n",
    "        ds = xr.open_dataset(file, decode_times=False, chunks={'time': 10000})\n",
    "\n",
    "        # Modify the time variable\n",
    "        ds = standardize_time(ds)\n",
    "\n",
    "        # Subset the dataset by latitude and longitude\n",
    "        ds = ds.sel(rlat=slice(lat_min, lat_max), rlon=slice(lon_min, lon_max))\n",
    "\n",
    "        # Optional: Rechunk the dataset if needed\n",
    "        ds = ds.chunk({'time': 10000})\n",
    "\n",
    "        # Add to the list of datasets\n",
    "        datasets.append(ds)\n",
    "\n",
    "    #Concatenate files \n",
    "    ds = xr.concat(datasets, dim='time') \n",
    "    \n",
    "    #Set output directory\n",
    "    output_dir = f\"O:\\\\Man\\\\Public\\\\sharing-4270-CERM\\\\VLYMI\\\\CLIMEX\\\\Climex DK Domain\\\\pr\\\\{ens}\"\n",
    "\n",
    "    #Create folder path in directroy\n",
    "    if not os.path.exists(output_dir):\n",
    "        os.makedirs(output_dir)\n",
    "    \n",
    "    #Grab model name string\n",
    "    match = re.search(r'pr_.*?_1h', files[0])\n",
    "    \n",
    "    name = match.group(0)\n",
    "    \n",
    "    #Save final output name\n",
    "    output_path = os.path.join(output_dir, f\"{name}_1955-2100.nc\")\n",
    "    write_delayed = ds.to_netcdf(output_path, engine=\"h5netcdf\", compute = False)\n",
    "    \n",
    "    #Compute the netcdf\n",
    "    dask.compute(write_delayed)\n",
    "    \n",
    "    break"
   ]
  }
 ],
 "metadata": {
  "kernelspec": {
   "display_name": "Python (3.11.9)",
   "language": "python",
   "name": "python-3.11.9"
  },
  "language_info": {
   "codemirror_mode": {
    "name": "ipython",
    "version": 3
   },
   "file_extension": ".py",
   "mimetype": "text/x-python",
   "name": "python",
   "nbconvert_exporter": "python",
   "pygments_lexer": "ipython3",
   "version": "3.10.7"
  }
 },
 "nbformat": 4,
 "nbformat_minor": 5
}
