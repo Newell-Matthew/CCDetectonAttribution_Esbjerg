{
 "cells": [
  {
   "cell_type": "code",
   "execution_count": 1,
   "id": "54aaac61",
   "metadata": {},
   "outputs": [],
   "source": [
    "import xarray as xr\n",
    "import glob\n",
    "import matplotlib.pyplot as plt\n",
    "import numpy as np\n",
    "import pandas as pd\n",
    "import re"
   ]
  },
  {
   "cell_type": "code",
   "execution_count": 2,
   "id": "29b6c332",
   "metadata": {},
   "outputs": [],
   "source": [
    "all_pr_model_files = glob.glob(\"O:\\\\Man\\\\Public\\\\sharing-4270-CERM\\\\VLYMI\\\\Climex DK Domain\\\\pr_daily_bc_V2\\\\**\\\\*.nc\")"
   ]
  },
  {
   "cell_type": "code",
   "execution_count": 3,
   "id": "590b4d43",
   "metadata": {},
   "outputs": [],
   "source": [
    "forced_model_names = [file.split(\"pr_EUR\")[1].split(\"_v\")[0] for file in all_pr_model_files]"
   ]
  },
  {
   "cell_type": "code",
   "execution_count": 4,
   "id": "7621bb39",
   "metadata": {},
   "outputs": [],
   "source": [
    "unique_model_names = sorted(list(set(forced_model_names)))"
   ]
  },
  {
   "cell_type": "code",
   "execution_count": 5,
   "id": "9e459f09",
   "metadata": {
    "scrolled": true
   },
   "outputs": [
    {
     "data": {
      "text/plain": [
       "['-11_CCCma-CanESM2_historical_r1-r10i1p1_OURANOS-CRCM5_kbj_day_1951-2100_BC_Esbjerg.nc',\n",
       " '-11_CCCma-CanESM2_historical_r1-r1i1p1_OURANOS-CRCM5_kba_day_1951-2100_BC_Esbjerg.nc',\n",
       " '-11_CCCma-CanESM2_historical_r1-r2i1p1_OURANOS-CRCM5_kbb_day_1951-2100_BC_Esbjerg.nc',\n",
       " '-11_CCCma-CanESM2_historical_r1-r3i1p1_OURANOS-CRCM5_kbc_day_1951-2100_BC_Esbjerg.nc',\n",
       " '-11_CCCma-CanESM2_historical_r1-r4i1p1_OURANOS-CRCM5_kbd_day_1951-2100_BC_Esbjerg.nc',\n",
       " '-11_CCCma-CanESM2_historical_r1-r5i1p1_OURANOS-CRCM5_kbe_day_1951-2100_BC_Esbjerg.nc',\n",
       " '-11_CCCma-CanESM2_historical_r1-r6i1p1_OURANOS-CRCM5_kbf_day_1951-2100_BC_Esbjerg.nc',\n",
       " '-11_CCCma-CanESM2_historical_r1-r7i1p1_OURANOS-CRCM5_kbg_day_1951-2100_BC_Esbjerg.nc',\n",
       " '-11_CCCma-CanESM2_historical_r1-r8i1p1_OURANOS-CRCM5_kbh_day_1951-2100_BC_Esbjerg.nc',\n",
       " '-11_CCCma-CanESM2_historical_r1-r9i1p1_OURANOS-CRCM5_kbi_day_1951-2100_BC_Esbjerg.nc',\n",
       " '-11_CCCma-CanESM2_historical_r2-r10i1p1_OURANOS-CRCM5_kbt_day_1951-2100_BC_Esbjerg.nc',\n",
       " '-11_CCCma-CanESM2_historical_r2-r1i1p1_OURANOS-CRCM5_kbk_day_1951-2100_BC_Esbjerg.nc',\n",
       " '-11_CCCma-CanESM2_historical_r2-r2i1p1_OURANOS-CRCM5_kbl_day_1951-2100_BC_Esbjerg.nc',\n",
       " '-11_CCCma-CanESM2_historical_r2-r3i1p1_OURANOS-CRCM5_kbm_day_1951-2100_BC_Esbjerg.nc',\n",
       " '-11_CCCma-CanESM2_historical_r2-r4i1p1_OURANOS-CRCM5_kbn_day_1951-2100_BC_Esbjerg.nc',\n",
       " '-11_CCCma-CanESM2_historical_r2-r5i1p1_OURANOS-CRCM5_kbo_day_1951-2100_BC_Esbjerg.nc',\n",
       " '-11_CCCma-CanESM2_historical_r2-r6i1p1_OURANOS-CRCM5_kbp_day_1951-2100_BC_Esbjerg.nc',\n",
       " '-11_CCCma-CanESM2_historical_r2-r7i1p1_OURANOS-CRCM5_kbq_day_1951-2100_BC_Esbjerg.nc',\n",
       " '-11_CCCma-CanESM2_historical_r2-r8i1p1_OURANOS-CRCM5_kbr_day_1951-2100_BC_Esbjerg.nc',\n",
       " '-11_CCCma-CanESM2_historical_r2-r9i1p1_OURANOS-CRCM5_kbs_day_1951-2100_BC_Esbjerg.nc',\n",
       " '-11_CCCma-CanESM2_historical_r3-r10i1p1_OURANOS-CRCM5_kcd_day_1951-2100_BC_Esbjerg.nc',\n",
       " '-11_CCCma-CanESM2_historical_r3-r1i1p1_OURANOS-CRCM5_kbu_day_1951-2100_BC_Esbjerg.nc',\n",
       " '-11_CCCma-CanESM2_historical_r3-r2i1p1_OURANOS-CRCM5_kbv_day_1951-2100_BC_Esbjerg.nc',\n",
       " '-11_CCCma-CanESM2_historical_r3-r3i1p1_OURANOS-CRCM5_kbw_day_1951-2100_BC_Esbjerg.nc',\n",
       " '-11_CCCma-CanESM2_historical_r3-r4i1p1_OURANOS-CRCM5_kbx_day_1951-2100_BC_Esbjerg.nc',\n",
       " '-11_CCCma-CanESM2_historical_r3-r5i1p1_OURANOS-CRCM5_kby_day_1951-2100_BC_Esbjerg.nc',\n",
       " '-11_CCCma-CanESM2_historical_r3-r6i1p1_OURANOS-CRCM5_kbz_day_1951-2100_BC_Esbjerg.nc',\n",
       " '-11_CCCma-CanESM2_historical_r3-r7i1p1_OURANOS-CRCM5_kca_day_1951-2100_BC_Esbjerg.nc',\n",
       " '-11_CCCma-CanESM2_historical_r3-r8i1p1_OURANOS-CRCM5_kcb_day_1951-2100_BC_Esbjerg.nc',\n",
       " '-11_CCCma-CanESM2_historical_r3-r9i1p1_OURANOS-CRCM5_kcc_day_1951-2100_BC_Esbjerg.nc',\n",
       " '-11_CCCma-CanESM2_historical_r4-r10i1p1_OURANOS-CRCM5_kcn_day_1951-2100_BC_Esbjerg.nc',\n",
       " '-11_CCCma-CanESM2_historical_r4-r1i1p1_OURANOS-CRCM5_kce_day_1951-2100_BC_Esbjerg.nc',\n",
       " '-11_CCCma-CanESM2_historical_r4-r2i1p1_OURANOS-CRCM5_kcf_day_1951-2100_BC_Esbjerg.nc',\n",
       " '-11_CCCma-CanESM2_historical_r4-r3i1p1_OURANOS-CRCM5_kcg_day_1951-2100_BC_Esbjerg.nc',\n",
       " '-11_CCCma-CanESM2_historical_r4-r4i1p1_OURANOS-CRCM5_kch_day_1951-2100_BC_Esbjerg.nc',\n",
       " '-11_CCCma-CanESM2_historical_r4-r5i1p1_OURANOS-CRCM5_kci_day_1951-2100_BC_Esbjerg.nc',\n",
       " '-11_CCCma-CanESM2_historical_r4-r6i1p1_OURANOS-CRCM5_kcj_day_1951-2100_BC_Esbjerg.nc',\n",
       " '-11_CCCma-CanESM2_historical_r4-r7i1p1_OURANOS-CRCM5_kck_day_1951-2100_BC_Esbjerg.nc',\n",
       " '-11_CCCma-CanESM2_historical_r4-r8i1p1_OURANOS-CRCM5_kcl_day_1951-2100_BC_Esbjerg.nc',\n",
       " '-11_CCCma-CanESM2_historical_r4-r9i1p1_OURANOS-CRCM5_kcm_day_1951-2100_BC_Esbjerg.nc',\n",
       " '-11_CCCma-CanESM2_historical_r5-r10i1p1_OURANOS-CRCM5_kcx_day_1951-2100_BC_Esbjerg.nc',\n",
       " '-11_CCCma-CanESM2_historical_r5-r1i1p1_OURANOS-CRCM5_kco_day_1951-2100_BC_Esbjerg.nc',\n",
       " '-11_CCCma-CanESM2_historical_r5-r2i1p1_OURANOS-CRCM5_kcp_day_1951-2100_BC_Esbjerg.nc',\n",
       " '-11_CCCma-CanESM2_historical_r5-r3i1p1_OURANOS-CRCM5_kcq_day_1951-2100_BC_Esbjerg.nc',\n",
       " '-11_CCCma-CanESM2_historical_r5-r4i1p1_OURANOS-CRCM5_kcr_day_1951-2100_BC_Esbjerg.nc',\n",
       " '-11_CCCma-CanESM2_historical_r5-r5i1p1_OURANOS-CRCM5_kcs_day_1951-2100_BC_Esbjerg.nc',\n",
       " '-11_CCCma-CanESM2_historical_r5-r6i1p1_OURANOS-CRCM5_kct_day_1951-2100_BC_Esbjerg.nc',\n",
       " '-11_CCCma-CanESM2_historical_r5-r7i1p1_OURANOS-CRCM5_kcu_day_1951-2100_BC_Esbjerg.nc',\n",
       " '-11_CCCma-CanESM2_historical_r5-r8i1p1_OURANOS-CRCM5_kcv_day_1951-2100_BC_Esbjerg.nc',\n",
       " '-11_CCCma-CanESM2_historical_r5-r9i1p1_OURANOS-CRCM5_kcw_day_1951-2100_BC_Esbjerg.nc']"
      ]
     },
     "execution_count": 5,
     "metadata": {},
     "output_type": "execute_result"
    }
   ],
   "source": [
    "unique_model_names"
   ]
  },
  {
   "cell_type": "code",
   "execution_count": 16,
   "id": "afbffbe5",
   "metadata": {},
   "outputs": [],
   "source": [
    "climex_df = pd.DataFrame()"
   ]
  },
  {
   "cell_type": "code",
   "execution_count": 17,
   "id": "fa780c54",
   "metadata": {
    "scrolled": true
   },
   "outputs": [
    {
     "name": "stdout",
     "output_type": "stream",
     "text": [
      "-11_CCCma-CanESM2_historical_r1-r10i1p1_OURANOS-CRCM5_kbj_day_1951-2100_BC_Esbjerg.nc\n",
      "r1_r10i1p1\n"
     ]
    },
    {
     "name": "stderr",
     "output_type": "stream",
     "text": [
      "C:\\Users\\mnew\\AppData\\Roaming\\Python\\Python310\\site-packages\\xarray\\core\\concat.py:540: UserWarning: No index created for dimension year because variable year is not a coordinate. To create an index for year, please first call `.set_coords('year')` on this object.\n",
      "  ds.expand_dims(dim_name, create_index_for_new_dim=create_index_for_new_dim)\n"
     ]
    },
    {
     "name": "stdout",
     "output_type": "stream",
     "text": [
      "-11_CCCma-CanESM2_historical_r1-r1i1p1_OURANOS-CRCM5_kba_day_1951-2100_BC_Esbjerg.nc\n",
      "r1_r1i1p1\n"
     ]
    },
    {
     "name": "stderr",
     "output_type": "stream",
     "text": [
      "C:\\Users\\mnew\\AppData\\Roaming\\Python\\Python310\\site-packages\\xarray\\core\\concat.py:540: UserWarning: No index created for dimension year because variable year is not a coordinate. To create an index for year, please first call `.set_coords('year')` on this object.\n",
      "  ds.expand_dims(dim_name, create_index_for_new_dim=create_index_for_new_dim)\n"
     ]
    },
    {
     "name": "stdout",
     "output_type": "stream",
     "text": [
      "-11_CCCma-CanESM2_historical_r1-r2i1p1_OURANOS-CRCM5_kbb_day_1951-2100_BC_Esbjerg.nc\n",
      "r1_r2i1p1\n"
     ]
    },
    {
     "name": "stderr",
     "output_type": "stream",
     "text": [
      "C:\\Users\\mnew\\AppData\\Roaming\\Python\\Python310\\site-packages\\xarray\\core\\concat.py:540: UserWarning: No index created for dimension year because variable year is not a coordinate. To create an index for year, please first call `.set_coords('year')` on this object.\n",
      "  ds.expand_dims(dim_name, create_index_for_new_dim=create_index_for_new_dim)\n"
     ]
    },
    {
     "name": "stdout",
     "output_type": "stream",
     "text": [
      "-11_CCCma-CanESM2_historical_r1-r3i1p1_OURANOS-CRCM5_kbc_day_1951-2100_BC_Esbjerg.nc\n",
      "r1_r3i1p1\n"
     ]
    },
    {
     "name": "stderr",
     "output_type": "stream",
     "text": [
      "C:\\Users\\mnew\\AppData\\Roaming\\Python\\Python310\\site-packages\\xarray\\core\\concat.py:540: UserWarning: No index created for dimension year because variable year is not a coordinate. To create an index for year, please first call `.set_coords('year')` on this object.\n",
      "  ds.expand_dims(dim_name, create_index_for_new_dim=create_index_for_new_dim)\n"
     ]
    },
    {
     "name": "stdout",
     "output_type": "stream",
     "text": [
      "-11_CCCma-CanESM2_historical_r1-r4i1p1_OURANOS-CRCM5_kbd_day_1951-2100_BC_Esbjerg.nc\n",
      "r1_r4i1p1\n"
     ]
    },
    {
     "name": "stderr",
     "output_type": "stream",
     "text": [
      "C:\\Users\\mnew\\AppData\\Roaming\\Python\\Python310\\site-packages\\xarray\\core\\concat.py:540: UserWarning: No index created for dimension year because variable year is not a coordinate. To create an index for year, please first call `.set_coords('year')` on this object.\n",
      "  ds.expand_dims(dim_name, create_index_for_new_dim=create_index_for_new_dim)\n"
     ]
    },
    {
     "name": "stdout",
     "output_type": "stream",
     "text": [
      "-11_CCCma-CanESM2_historical_r1-r5i1p1_OURANOS-CRCM5_kbe_day_1951-2100_BC_Esbjerg.nc\n",
      "r1_r5i1p1\n"
     ]
    },
    {
     "name": "stderr",
     "output_type": "stream",
     "text": [
      "C:\\Users\\mnew\\AppData\\Roaming\\Python\\Python310\\site-packages\\xarray\\core\\concat.py:540: UserWarning: No index created for dimension year because variable year is not a coordinate. To create an index for year, please first call `.set_coords('year')` on this object.\n",
      "  ds.expand_dims(dim_name, create_index_for_new_dim=create_index_for_new_dim)\n"
     ]
    },
    {
     "name": "stdout",
     "output_type": "stream",
     "text": [
      "-11_CCCma-CanESM2_historical_r1-r6i1p1_OURANOS-CRCM5_kbf_day_1951-2100_BC_Esbjerg.nc\n",
      "r1_r6i1p1\n"
     ]
    },
    {
     "name": "stderr",
     "output_type": "stream",
     "text": [
      "C:\\Users\\mnew\\AppData\\Roaming\\Python\\Python310\\site-packages\\xarray\\core\\concat.py:540: UserWarning: No index created for dimension year because variable year is not a coordinate. To create an index for year, please first call `.set_coords('year')` on this object.\n",
      "  ds.expand_dims(dim_name, create_index_for_new_dim=create_index_for_new_dim)\n"
     ]
    },
    {
     "name": "stdout",
     "output_type": "stream",
     "text": [
      "-11_CCCma-CanESM2_historical_r1-r7i1p1_OURANOS-CRCM5_kbg_day_1951-2100_BC_Esbjerg.nc\n",
      "r1_r7i1p1\n"
     ]
    },
    {
     "name": "stderr",
     "output_type": "stream",
     "text": [
      "C:\\Users\\mnew\\AppData\\Roaming\\Python\\Python310\\site-packages\\xarray\\core\\concat.py:540: UserWarning: No index created for dimension year because variable year is not a coordinate. To create an index for year, please first call `.set_coords('year')` on this object.\n",
      "  ds.expand_dims(dim_name, create_index_for_new_dim=create_index_for_new_dim)\n"
     ]
    },
    {
     "name": "stdout",
     "output_type": "stream",
     "text": [
      "-11_CCCma-CanESM2_historical_r1-r8i1p1_OURANOS-CRCM5_kbh_day_1951-2100_BC_Esbjerg.nc\n",
      "r1_r8i1p1\n"
     ]
    },
    {
     "name": "stderr",
     "output_type": "stream",
     "text": [
      "C:\\Users\\mnew\\AppData\\Roaming\\Python\\Python310\\site-packages\\xarray\\core\\concat.py:540: UserWarning: No index created for dimension year because variable year is not a coordinate. To create an index for year, please first call `.set_coords('year')` on this object.\n",
      "  ds.expand_dims(dim_name, create_index_for_new_dim=create_index_for_new_dim)\n"
     ]
    },
    {
     "name": "stdout",
     "output_type": "stream",
     "text": [
      "-11_CCCma-CanESM2_historical_r1-r9i1p1_OURANOS-CRCM5_kbi_day_1951-2100_BC_Esbjerg.nc\n",
      "r1_r9i1p1\n"
     ]
    },
    {
     "name": "stderr",
     "output_type": "stream",
     "text": [
      "C:\\Users\\mnew\\AppData\\Roaming\\Python\\Python310\\site-packages\\xarray\\core\\concat.py:540: UserWarning: No index created for dimension year because variable year is not a coordinate. To create an index for year, please first call `.set_coords('year')` on this object.\n",
      "  ds.expand_dims(dim_name, create_index_for_new_dim=create_index_for_new_dim)\n"
     ]
    },
    {
     "name": "stdout",
     "output_type": "stream",
     "text": [
      "-11_CCCma-CanESM2_historical_r2-r10i1p1_OURANOS-CRCM5_kbt_day_1951-2100_BC_Esbjerg.nc\n",
      "r2_r10i1p1\n"
     ]
    },
    {
     "name": "stderr",
     "output_type": "stream",
     "text": [
      "C:\\Users\\mnew\\AppData\\Roaming\\Python\\Python310\\site-packages\\xarray\\core\\concat.py:540: UserWarning: No index created for dimension year because variable year is not a coordinate. To create an index for year, please first call `.set_coords('year')` on this object.\n",
      "  ds.expand_dims(dim_name, create_index_for_new_dim=create_index_for_new_dim)\n"
     ]
    },
    {
     "name": "stdout",
     "output_type": "stream",
     "text": [
      "-11_CCCma-CanESM2_historical_r2-r1i1p1_OURANOS-CRCM5_kbk_day_1951-2100_BC_Esbjerg.nc\n",
      "r2_r1i1p1\n"
     ]
    },
    {
     "name": "stderr",
     "output_type": "stream",
     "text": [
      "C:\\Users\\mnew\\AppData\\Roaming\\Python\\Python310\\site-packages\\xarray\\core\\concat.py:540: UserWarning: No index created for dimension year because variable year is not a coordinate. To create an index for year, please first call `.set_coords('year')` on this object.\n",
      "  ds.expand_dims(dim_name, create_index_for_new_dim=create_index_for_new_dim)\n"
     ]
    },
    {
     "name": "stdout",
     "output_type": "stream",
     "text": [
      "-11_CCCma-CanESM2_historical_r2-r2i1p1_OURANOS-CRCM5_kbl_day_1951-2100_BC_Esbjerg.nc\n",
      "r2_r2i1p1\n"
     ]
    },
    {
     "name": "stderr",
     "output_type": "stream",
     "text": [
      "C:\\Users\\mnew\\AppData\\Roaming\\Python\\Python310\\site-packages\\xarray\\core\\concat.py:540: UserWarning: No index created for dimension year because variable year is not a coordinate. To create an index for year, please first call `.set_coords('year')` on this object.\n",
      "  ds.expand_dims(dim_name, create_index_for_new_dim=create_index_for_new_dim)\n"
     ]
    },
    {
     "name": "stdout",
     "output_type": "stream",
     "text": [
      "-11_CCCma-CanESM2_historical_r2-r3i1p1_OURANOS-CRCM5_kbm_day_1951-2100_BC_Esbjerg.nc\n",
      "r2_r3i1p1\n"
     ]
    },
    {
     "name": "stderr",
     "output_type": "stream",
     "text": [
      "C:\\Users\\mnew\\AppData\\Roaming\\Python\\Python310\\site-packages\\xarray\\core\\concat.py:540: UserWarning: No index created for dimension year because variable year is not a coordinate. To create an index for year, please first call `.set_coords('year')` on this object.\n",
      "  ds.expand_dims(dim_name, create_index_for_new_dim=create_index_for_new_dim)\n"
     ]
    },
    {
     "name": "stdout",
     "output_type": "stream",
     "text": [
      "-11_CCCma-CanESM2_historical_r2-r4i1p1_OURANOS-CRCM5_kbn_day_1951-2100_BC_Esbjerg.nc\n",
      "r2_r4i1p1\n"
     ]
    },
    {
     "name": "stderr",
     "output_type": "stream",
     "text": [
      "C:\\Users\\mnew\\AppData\\Roaming\\Python\\Python310\\site-packages\\xarray\\core\\concat.py:540: UserWarning: No index created for dimension year because variable year is not a coordinate. To create an index for year, please first call `.set_coords('year')` on this object.\n",
      "  ds.expand_dims(dim_name, create_index_for_new_dim=create_index_for_new_dim)\n"
     ]
    },
    {
     "name": "stdout",
     "output_type": "stream",
     "text": [
      "-11_CCCma-CanESM2_historical_r2-r5i1p1_OURANOS-CRCM5_kbo_day_1951-2100_BC_Esbjerg.nc\n",
      "r2_r5i1p1\n"
     ]
    },
    {
     "name": "stderr",
     "output_type": "stream",
     "text": [
      "C:\\Users\\mnew\\AppData\\Roaming\\Python\\Python310\\site-packages\\xarray\\core\\concat.py:540: UserWarning: No index created for dimension year because variable year is not a coordinate. To create an index for year, please first call `.set_coords('year')` on this object.\n",
      "  ds.expand_dims(dim_name, create_index_for_new_dim=create_index_for_new_dim)\n"
     ]
    },
    {
     "name": "stdout",
     "output_type": "stream",
     "text": [
      "-11_CCCma-CanESM2_historical_r2-r6i1p1_OURANOS-CRCM5_kbp_day_1951-2100_BC_Esbjerg.nc\n",
      "r2_r6i1p1\n"
     ]
    },
    {
     "name": "stderr",
     "output_type": "stream",
     "text": [
      "C:\\Users\\mnew\\AppData\\Roaming\\Python\\Python310\\site-packages\\xarray\\core\\concat.py:540: UserWarning: No index created for dimension year because variable year is not a coordinate. To create an index for year, please first call `.set_coords('year')` on this object.\n",
      "  ds.expand_dims(dim_name, create_index_for_new_dim=create_index_for_new_dim)\n"
     ]
    },
    {
     "name": "stdout",
     "output_type": "stream",
     "text": [
      "-11_CCCma-CanESM2_historical_r2-r7i1p1_OURANOS-CRCM5_kbq_day_1951-2100_BC_Esbjerg.nc\n",
      "r2_r7i1p1\n"
     ]
    },
    {
     "name": "stderr",
     "output_type": "stream",
     "text": [
      "C:\\Users\\mnew\\AppData\\Roaming\\Python\\Python310\\site-packages\\xarray\\core\\concat.py:540: UserWarning: No index created for dimension year because variable year is not a coordinate. To create an index for year, please first call `.set_coords('year')` on this object.\n",
      "  ds.expand_dims(dim_name, create_index_for_new_dim=create_index_for_new_dim)\n"
     ]
    },
    {
     "name": "stdout",
     "output_type": "stream",
     "text": [
      "-11_CCCma-CanESM2_historical_r2-r8i1p1_OURANOS-CRCM5_kbr_day_1951-2100_BC_Esbjerg.nc\n",
      "r2_r8i1p1\n"
     ]
    },
    {
     "name": "stderr",
     "output_type": "stream",
     "text": [
      "C:\\Users\\mnew\\AppData\\Roaming\\Python\\Python310\\site-packages\\xarray\\core\\concat.py:540: UserWarning: No index created for dimension year because variable year is not a coordinate. To create an index for year, please first call `.set_coords('year')` on this object.\n",
      "  ds.expand_dims(dim_name, create_index_for_new_dim=create_index_for_new_dim)\n"
     ]
    },
    {
     "name": "stdout",
     "output_type": "stream",
     "text": [
      "-11_CCCma-CanESM2_historical_r2-r9i1p1_OURANOS-CRCM5_kbs_day_1951-2100_BC_Esbjerg.nc\n",
      "r2_r9i1p1\n"
     ]
    },
    {
     "name": "stderr",
     "output_type": "stream",
     "text": [
      "C:\\Users\\mnew\\AppData\\Roaming\\Python\\Python310\\site-packages\\xarray\\core\\concat.py:540: UserWarning: No index created for dimension year because variable year is not a coordinate. To create an index for year, please first call `.set_coords('year')` on this object.\n",
      "  ds.expand_dims(dim_name, create_index_for_new_dim=create_index_for_new_dim)\n"
     ]
    },
    {
     "name": "stdout",
     "output_type": "stream",
     "text": [
      "-11_CCCma-CanESM2_historical_r3-r10i1p1_OURANOS-CRCM5_kcd_day_1951-2100_BC_Esbjerg.nc\n",
      "r3_r10i1p1\n"
     ]
    },
    {
     "name": "stderr",
     "output_type": "stream",
     "text": [
      "C:\\Users\\mnew\\AppData\\Roaming\\Python\\Python310\\site-packages\\xarray\\core\\concat.py:540: UserWarning: No index created for dimension year because variable year is not a coordinate. To create an index for year, please first call `.set_coords('year')` on this object.\n",
      "  ds.expand_dims(dim_name, create_index_for_new_dim=create_index_for_new_dim)\n"
     ]
    },
    {
     "name": "stdout",
     "output_type": "stream",
     "text": [
      "-11_CCCma-CanESM2_historical_r3-r1i1p1_OURANOS-CRCM5_kbu_day_1951-2100_BC_Esbjerg.nc\n",
      "r3_r1i1p1\n"
     ]
    },
    {
     "name": "stderr",
     "output_type": "stream",
     "text": [
      "C:\\Users\\mnew\\AppData\\Roaming\\Python\\Python310\\site-packages\\xarray\\core\\concat.py:540: UserWarning: No index created for dimension year because variable year is not a coordinate. To create an index for year, please first call `.set_coords('year')` on this object.\n",
      "  ds.expand_dims(dim_name, create_index_for_new_dim=create_index_for_new_dim)\n"
     ]
    },
    {
     "name": "stdout",
     "output_type": "stream",
     "text": [
      "-11_CCCma-CanESM2_historical_r3-r2i1p1_OURANOS-CRCM5_kbv_day_1951-2100_BC_Esbjerg.nc\n",
      "r3_r2i1p1\n"
     ]
    },
    {
     "name": "stderr",
     "output_type": "stream",
     "text": [
      "C:\\Users\\mnew\\AppData\\Roaming\\Python\\Python310\\site-packages\\xarray\\core\\concat.py:540: UserWarning: No index created for dimension year because variable year is not a coordinate. To create an index for year, please first call `.set_coords('year')` on this object.\n",
      "  ds.expand_dims(dim_name, create_index_for_new_dim=create_index_for_new_dim)\n"
     ]
    },
    {
     "name": "stdout",
     "output_type": "stream",
     "text": [
      "-11_CCCma-CanESM2_historical_r3-r3i1p1_OURANOS-CRCM5_kbw_day_1951-2100_BC_Esbjerg.nc\n",
      "r3_r3i1p1\n"
     ]
    },
    {
     "name": "stderr",
     "output_type": "stream",
     "text": [
      "C:\\Users\\mnew\\AppData\\Roaming\\Python\\Python310\\site-packages\\xarray\\core\\concat.py:540: UserWarning: No index created for dimension year because variable year is not a coordinate. To create an index for year, please first call `.set_coords('year')` on this object.\n",
      "  ds.expand_dims(dim_name, create_index_for_new_dim=create_index_for_new_dim)\n"
     ]
    },
    {
     "name": "stdout",
     "output_type": "stream",
     "text": [
      "-11_CCCma-CanESM2_historical_r3-r4i1p1_OURANOS-CRCM5_kbx_day_1951-2100_BC_Esbjerg.nc\n",
      "r3_r4i1p1\n"
     ]
    },
    {
     "name": "stderr",
     "output_type": "stream",
     "text": [
      "C:\\Users\\mnew\\AppData\\Roaming\\Python\\Python310\\site-packages\\xarray\\core\\concat.py:540: UserWarning: No index created for dimension year because variable year is not a coordinate. To create an index for year, please first call `.set_coords('year')` on this object.\n",
      "  ds.expand_dims(dim_name, create_index_for_new_dim=create_index_for_new_dim)\n"
     ]
    },
    {
     "name": "stdout",
     "output_type": "stream",
     "text": [
      "-11_CCCma-CanESM2_historical_r3-r5i1p1_OURANOS-CRCM5_kby_day_1951-2100_BC_Esbjerg.nc\n",
      "r3_r5i1p1\n"
     ]
    },
    {
     "name": "stderr",
     "output_type": "stream",
     "text": [
      "C:\\Users\\mnew\\AppData\\Roaming\\Python\\Python310\\site-packages\\xarray\\core\\concat.py:540: UserWarning: No index created for dimension year because variable year is not a coordinate. To create an index for year, please first call `.set_coords('year')` on this object.\n",
      "  ds.expand_dims(dim_name, create_index_for_new_dim=create_index_for_new_dim)\n"
     ]
    },
    {
     "name": "stdout",
     "output_type": "stream",
     "text": [
      "-11_CCCma-CanESM2_historical_r3-r6i1p1_OURANOS-CRCM5_kbz_day_1951-2100_BC_Esbjerg.nc\n",
      "r3_r6i1p1\n"
     ]
    },
    {
     "name": "stderr",
     "output_type": "stream",
     "text": [
      "C:\\Users\\mnew\\AppData\\Roaming\\Python\\Python310\\site-packages\\xarray\\core\\concat.py:540: UserWarning: No index created for dimension year because variable year is not a coordinate. To create an index for year, please first call `.set_coords('year')` on this object.\n",
      "  ds.expand_dims(dim_name, create_index_for_new_dim=create_index_for_new_dim)\n"
     ]
    },
    {
     "name": "stdout",
     "output_type": "stream",
     "text": [
      "-11_CCCma-CanESM2_historical_r3-r7i1p1_OURANOS-CRCM5_kca_day_1951-2100_BC_Esbjerg.nc\n",
      "r3_r7i1p1\n"
     ]
    },
    {
     "name": "stderr",
     "output_type": "stream",
     "text": [
      "C:\\Users\\mnew\\AppData\\Roaming\\Python\\Python310\\site-packages\\xarray\\core\\concat.py:540: UserWarning: No index created for dimension year because variable year is not a coordinate. To create an index for year, please first call `.set_coords('year')` on this object.\n",
      "  ds.expand_dims(dim_name, create_index_for_new_dim=create_index_for_new_dim)\n"
     ]
    },
    {
     "name": "stdout",
     "output_type": "stream",
     "text": [
      "-11_CCCma-CanESM2_historical_r3-r8i1p1_OURANOS-CRCM5_kcb_day_1951-2100_BC_Esbjerg.nc\n",
      "r3_r8i1p1\n"
     ]
    },
    {
     "name": "stderr",
     "output_type": "stream",
     "text": [
      "C:\\Users\\mnew\\AppData\\Roaming\\Python\\Python310\\site-packages\\xarray\\core\\concat.py:540: UserWarning: No index created for dimension year because variable year is not a coordinate. To create an index for year, please first call `.set_coords('year')` on this object.\n",
      "  ds.expand_dims(dim_name, create_index_for_new_dim=create_index_for_new_dim)\n"
     ]
    },
    {
     "name": "stdout",
     "output_type": "stream",
     "text": [
      "-11_CCCma-CanESM2_historical_r3-r9i1p1_OURANOS-CRCM5_kcc_day_1951-2100_BC_Esbjerg.nc\n",
      "r3_r9i1p1\n"
     ]
    },
    {
     "name": "stderr",
     "output_type": "stream",
     "text": [
      "C:\\Users\\mnew\\AppData\\Roaming\\Python\\Python310\\site-packages\\xarray\\core\\concat.py:540: UserWarning: No index created for dimension year because variable year is not a coordinate. To create an index for year, please first call `.set_coords('year')` on this object.\n",
      "  ds.expand_dims(dim_name, create_index_for_new_dim=create_index_for_new_dim)\n"
     ]
    },
    {
     "name": "stdout",
     "output_type": "stream",
     "text": [
      "-11_CCCma-CanESM2_historical_r4-r10i1p1_OURANOS-CRCM5_kcn_day_1951-2100_BC_Esbjerg.nc\n",
      "r4_r10i1p1\n"
     ]
    },
    {
     "name": "stderr",
     "output_type": "stream",
     "text": [
      "C:\\Users\\mnew\\AppData\\Roaming\\Python\\Python310\\site-packages\\xarray\\core\\concat.py:540: UserWarning: No index created for dimension year because variable year is not a coordinate. To create an index for year, please first call `.set_coords('year')` on this object.\n",
      "  ds.expand_dims(dim_name, create_index_for_new_dim=create_index_for_new_dim)\n"
     ]
    },
    {
     "name": "stdout",
     "output_type": "stream",
     "text": [
      "-11_CCCma-CanESM2_historical_r4-r1i1p1_OURANOS-CRCM5_kce_day_1951-2100_BC_Esbjerg.nc\n",
      "r4_r1i1p1\n"
     ]
    },
    {
     "name": "stderr",
     "output_type": "stream",
     "text": [
      "C:\\Users\\mnew\\AppData\\Roaming\\Python\\Python310\\site-packages\\xarray\\core\\concat.py:540: UserWarning: No index created for dimension year because variable year is not a coordinate. To create an index for year, please first call `.set_coords('year')` on this object.\n",
      "  ds.expand_dims(dim_name, create_index_for_new_dim=create_index_for_new_dim)\n"
     ]
    },
    {
     "name": "stdout",
     "output_type": "stream",
     "text": [
      "-11_CCCma-CanESM2_historical_r4-r2i1p1_OURANOS-CRCM5_kcf_day_1951-2100_BC_Esbjerg.nc\n",
      "r4_r2i1p1\n"
     ]
    },
    {
     "name": "stderr",
     "output_type": "stream",
     "text": [
      "C:\\Users\\mnew\\AppData\\Roaming\\Python\\Python310\\site-packages\\xarray\\core\\concat.py:540: UserWarning: No index created for dimension year because variable year is not a coordinate. To create an index for year, please first call `.set_coords('year')` on this object.\n",
      "  ds.expand_dims(dim_name, create_index_for_new_dim=create_index_for_new_dim)\n"
     ]
    },
    {
     "name": "stdout",
     "output_type": "stream",
     "text": [
      "-11_CCCma-CanESM2_historical_r4-r3i1p1_OURANOS-CRCM5_kcg_day_1951-2100_BC_Esbjerg.nc\n",
      "r4_r3i1p1\n"
     ]
    },
    {
     "name": "stderr",
     "output_type": "stream",
     "text": [
      "C:\\Users\\mnew\\AppData\\Roaming\\Python\\Python310\\site-packages\\xarray\\core\\concat.py:540: UserWarning: No index created for dimension year because variable year is not a coordinate. To create an index for year, please first call `.set_coords('year')` on this object.\n",
      "  ds.expand_dims(dim_name, create_index_for_new_dim=create_index_for_new_dim)\n"
     ]
    },
    {
     "name": "stdout",
     "output_type": "stream",
     "text": [
      "-11_CCCma-CanESM2_historical_r4-r4i1p1_OURANOS-CRCM5_kch_day_1951-2100_BC_Esbjerg.nc\n",
      "r4_r4i1p1\n"
     ]
    },
    {
     "name": "stderr",
     "output_type": "stream",
     "text": [
      "C:\\Users\\mnew\\AppData\\Roaming\\Python\\Python310\\site-packages\\xarray\\core\\concat.py:540: UserWarning: No index created for dimension year because variable year is not a coordinate. To create an index for year, please first call `.set_coords('year')` on this object.\n",
      "  ds.expand_dims(dim_name, create_index_for_new_dim=create_index_for_new_dim)\n"
     ]
    },
    {
     "name": "stdout",
     "output_type": "stream",
     "text": [
      "-11_CCCma-CanESM2_historical_r4-r5i1p1_OURANOS-CRCM5_kci_day_1951-2100_BC_Esbjerg.nc\n",
      "r4_r5i1p1\n"
     ]
    },
    {
     "name": "stderr",
     "output_type": "stream",
     "text": [
      "C:\\Users\\mnew\\AppData\\Roaming\\Python\\Python310\\site-packages\\xarray\\core\\concat.py:540: UserWarning: No index created for dimension year because variable year is not a coordinate. To create an index for year, please first call `.set_coords('year')` on this object.\n",
      "  ds.expand_dims(dim_name, create_index_for_new_dim=create_index_for_new_dim)\n"
     ]
    },
    {
     "name": "stdout",
     "output_type": "stream",
     "text": [
      "-11_CCCma-CanESM2_historical_r4-r6i1p1_OURANOS-CRCM5_kcj_day_1951-2100_BC_Esbjerg.nc\n",
      "r4_r6i1p1\n"
     ]
    },
    {
     "name": "stderr",
     "output_type": "stream",
     "text": [
      "C:\\Users\\mnew\\AppData\\Roaming\\Python\\Python310\\site-packages\\xarray\\core\\concat.py:540: UserWarning: No index created for dimension year because variable year is not a coordinate. To create an index for year, please first call `.set_coords('year')` on this object.\n",
      "  ds.expand_dims(dim_name, create_index_for_new_dim=create_index_for_new_dim)\n"
     ]
    },
    {
     "name": "stdout",
     "output_type": "stream",
     "text": [
      "-11_CCCma-CanESM2_historical_r4-r7i1p1_OURANOS-CRCM5_kck_day_1951-2100_BC_Esbjerg.nc\n",
      "r4_r7i1p1\n"
     ]
    },
    {
     "name": "stderr",
     "output_type": "stream",
     "text": [
      "C:\\Users\\mnew\\AppData\\Roaming\\Python\\Python310\\site-packages\\xarray\\core\\concat.py:540: UserWarning: No index created for dimension year because variable year is not a coordinate. To create an index for year, please first call `.set_coords('year')` on this object.\n",
      "  ds.expand_dims(dim_name, create_index_for_new_dim=create_index_for_new_dim)\n"
     ]
    },
    {
     "name": "stdout",
     "output_type": "stream",
     "text": [
      "-11_CCCma-CanESM2_historical_r4-r8i1p1_OURANOS-CRCM5_kcl_day_1951-2100_BC_Esbjerg.nc\n",
      "r4_r8i1p1\n"
     ]
    },
    {
     "name": "stderr",
     "output_type": "stream",
     "text": [
      "C:\\Users\\mnew\\AppData\\Roaming\\Python\\Python310\\site-packages\\xarray\\core\\concat.py:540: UserWarning: No index created for dimension year because variable year is not a coordinate. To create an index for year, please first call `.set_coords('year')` on this object.\n",
      "  ds.expand_dims(dim_name, create_index_for_new_dim=create_index_for_new_dim)\n"
     ]
    },
    {
     "name": "stdout",
     "output_type": "stream",
     "text": [
      "-11_CCCma-CanESM2_historical_r4-r9i1p1_OURANOS-CRCM5_kcm_day_1951-2100_BC_Esbjerg.nc\n",
      "r4_r9i1p1\n"
     ]
    },
    {
     "name": "stderr",
     "output_type": "stream",
     "text": [
      "C:\\Users\\mnew\\AppData\\Roaming\\Python\\Python310\\site-packages\\xarray\\core\\concat.py:540: UserWarning: No index created for dimension year because variable year is not a coordinate. To create an index for year, please first call `.set_coords('year')` on this object.\n",
      "  ds.expand_dims(dim_name, create_index_for_new_dim=create_index_for_new_dim)\n"
     ]
    },
    {
     "name": "stdout",
     "output_type": "stream",
     "text": [
      "-11_CCCma-CanESM2_historical_r5-r10i1p1_OURANOS-CRCM5_kcx_day_1951-2100_BC_Esbjerg.nc\n",
      "r5_r10i1p1\n"
     ]
    },
    {
     "name": "stderr",
     "output_type": "stream",
     "text": [
      "C:\\Users\\mnew\\AppData\\Roaming\\Python\\Python310\\site-packages\\xarray\\core\\concat.py:540: UserWarning: No index created for dimension year because variable year is not a coordinate. To create an index for year, please first call `.set_coords('year')` on this object.\n",
      "  ds.expand_dims(dim_name, create_index_for_new_dim=create_index_for_new_dim)\n"
     ]
    },
    {
     "name": "stdout",
     "output_type": "stream",
     "text": [
      "-11_CCCma-CanESM2_historical_r5-r1i1p1_OURANOS-CRCM5_kco_day_1951-2100_BC_Esbjerg.nc\n",
      "r5_r1i1p1\n"
     ]
    },
    {
     "name": "stderr",
     "output_type": "stream",
     "text": [
      "C:\\Users\\mnew\\AppData\\Roaming\\Python\\Python310\\site-packages\\xarray\\core\\concat.py:540: UserWarning: No index created for dimension year because variable year is not a coordinate. To create an index for year, please first call `.set_coords('year')` on this object.\n",
      "  ds.expand_dims(dim_name, create_index_for_new_dim=create_index_for_new_dim)\n"
     ]
    },
    {
     "name": "stdout",
     "output_type": "stream",
     "text": [
      "-11_CCCma-CanESM2_historical_r5-r2i1p1_OURANOS-CRCM5_kcp_day_1951-2100_BC_Esbjerg.nc\n",
      "r5_r2i1p1\n"
     ]
    },
    {
     "name": "stderr",
     "output_type": "stream",
     "text": [
      "C:\\Users\\mnew\\AppData\\Roaming\\Python\\Python310\\site-packages\\xarray\\core\\concat.py:540: UserWarning: No index created for dimension year because variable year is not a coordinate. To create an index for year, please first call `.set_coords('year')` on this object.\n",
      "  ds.expand_dims(dim_name, create_index_for_new_dim=create_index_for_new_dim)\n"
     ]
    },
    {
     "name": "stdout",
     "output_type": "stream",
     "text": [
      "-11_CCCma-CanESM2_historical_r5-r3i1p1_OURANOS-CRCM5_kcq_day_1951-2100_BC_Esbjerg.nc\n",
      "r5_r3i1p1\n"
     ]
    },
    {
     "name": "stderr",
     "output_type": "stream",
     "text": [
      "C:\\Users\\mnew\\AppData\\Roaming\\Python\\Python310\\site-packages\\xarray\\core\\concat.py:540: UserWarning: No index created for dimension year because variable year is not a coordinate. To create an index for year, please first call `.set_coords('year')` on this object.\n",
      "  ds.expand_dims(dim_name, create_index_for_new_dim=create_index_for_new_dim)\n"
     ]
    },
    {
     "name": "stdout",
     "output_type": "stream",
     "text": [
      "-11_CCCma-CanESM2_historical_r5-r4i1p1_OURANOS-CRCM5_kcr_day_1951-2100_BC_Esbjerg.nc\n",
      "r5_r4i1p1\n"
     ]
    },
    {
     "name": "stderr",
     "output_type": "stream",
     "text": [
      "C:\\Users\\mnew\\AppData\\Roaming\\Python\\Python310\\site-packages\\xarray\\core\\concat.py:540: UserWarning: No index created for dimension year because variable year is not a coordinate. To create an index for year, please first call `.set_coords('year')` on this object.\n",
      "  ds.expand_dims(dim_name, create_index_for_new_dim=create_index_for_new_dim)\n"
     ]
    },
    {
     "name": "stdout",
     "output_type": "stream",
     "text": [
      "-11_CCCma-CanESM2_historical_r5-r5i1p1_OURANOS-CRCM5_kcs_day_1951-2100_BC_Esbjerg.nc\n",
      "r5_r5i1p1\n"
     ]
    },
    {
     "name": "stderr",
     "output_type": "stream",
     "text": [
      "C:\\Users\\mnew\\AppData\\Roaming\\Python\\Python310\\site-packages\\xarray\\core\\concat.py:540: UserWarning: No index created for dimension year because variable year is not a coordinate. To create an index for year, please first call `.set_coords('year')` on this object.\n",
      "  ds.expand_dims(dim_name, create_index_for_new_dim=create_index_for_new_dim)\n"
     ]
    },
    {
     "name": "stdout",
     "output_type": "stream",
     "text": [
      "-11_CCCma-CanESM2_historical_r5-r6i1p1_OURANOS-CRCM5_kct_day_1951-2100_BC_Esbjerg.nc\n",
      "r5_r6i1p1\n"
     ]
    },
    {
     "name": "stderr",
     "output_type": "stream",
     "text": [
      "C:\\Users\\mnew\\AppData\\Roaming\\Python\\Python310\\site-packages\\xarray\\core\\concat.py:540: UserWarning: No index created for dimension year because variable year is not a coordinate. To create an index for year, please first call `.set_coords('year')` on this object.\n",
      "  ds.expand_dims(dim_name, create_index_for_new_dim=create_index_for_new_dim)\n"
     ]
    },
    {
     "name": "stdout",
     "output_type": "stream",
     "text": [
      "-11_CCCma-CanESM2_historical_r5-r7i1p1_OURANOS-CRCM5_kcu_day_1951-2100_BC_Esbjerg.nc\n",
      "r5_r7i1p1\n"
     ]
    },
    {
     "name": "stderr",
     "output_type": "stream",
     "text": [
      "C:\\Users\\mnew\\AppData\\Roaming\\Python\\Python310\\site-packages\\xarray\\core\\concat.py:540: UserWarning: No index created for dimension year because variable year is not a coordinate. To create an index for year, please first call `.set_coords('year')` on this object.\n",
      "  ds.expand_dims(dim_name, create_index_for_new_dim=create_index_for_new_dim)\n"
     ]
    },
    {
     "name": "stdout",
     "output_type": "stream",
     "text": [
      "-11_CCCma-CanESM2_historical_r5-r8i1p1_OURANOS-CRCM5_kcv_day_1951-2100_BC_Esbjerg.nc\n",
      "r5_r8i1p1\n"
     ]
    },
    {
     "name": "stderr",
     "output_type": "stream",
     "text": [
      "C:\\Users\\mnew\\AppData\\Roaming\\Python\\Python310\\site-packages\\xarray\\core\\concat.py:540: UserWarning: No index created for dimension year because variable year is not a coordinate. To create an index for year, please first call `.set_coords('year')` on this object.\n",
      "  ds.expand_dims(dim_name, create_index_for_new_dim=create_index_for_new_dim)\n"
     ]
    },
    {
     "name": "stdout",
     "output_type": "stream",
     "text": [
      "-11_CCCma-CanESM2_historical_r5-r9i1p1_OURANOS-CRCM5_kcw_day_1951-2100_BC_Esbjerg.nc\n",
      "r5_r9i1p1\n"
     ]
    },
    {
     "name": "stderr",
     "output_type": "stream",
     "text": [
      "C:\\Users\\mnew\\AppData\\Roaming\\Python\\Python310\\site-packages\\xarray\\core\\concat.py:540: UserWarning: No index created for dimension year because variable year is not a coordinate. To create an index for year, please first call `.set_coords('year')` on this object.\n",
      "  ds.expand_dims(dim_name, create_index_for_new_dim=create_index_for_new_dim)\n"
     ]
    }
   ],
   "source": [
    "for model in list(unique_model_names):\n",
    "    print(model)\n",
    "\n",
    "    #Select corresponding GCM model name \n",
    "    model_name = re.search(r'historical_(.*?)_OURANOS', model)\n",
    "    model_name = model_name.group(1)\n",
    "    model_name = model_name.replace('-', '_')\n",
    "    print(model_name)\n",
    "    \n",
    "    #Pathway to GMST \n",
    "    GMST_file_path = glob.glob(f\"O:\\\\Man\\\\Public\\\\sharing-4270-CERM\\\\VLYMI\\\\CLIMEX\\\\GMST\\\\tas_Amon_CanESM2_historical-{model_name}_1950-2100_SpatialMean_y.nc\")\n",
    "        \n",
    "    #Open GMST file\n",
    "    GMST_ds = xr.open_dataset(GMST_file_path[0])\n",
    "    \n",
    "    #Create year variable \n",
    "    GMST_ds['year'] = GMST_ds['time']\n",
    "    \n",
    "    #Calculate anomalies relative to pre-industrial (286.99 K)\n",
    "    GMST_ds['tas'] = GMST_ds['tas'] - 286.99\n",
    "    \n",
    "    #Calculate rolling mean\n",
    "    GMST_ds['tas'] = GMST_ds.tas.rolling(time=4, min_periods=1).mean()\n",
    "    \n",
    "    #Save to dataframe\n",
    "    GMST_df = GMST_ds.tas.to_dataframe().reset_index()\n",
    "    \n",
    "    GMST_df['year'] = GMST_df['time'].apply(lambda x: x.year)\n",
    "    GMST_df = GMST_df.drop(columns=['lat', 'lon', 'height', 'time'])  # drop the columns\n",
    "    \n",
    "    # Open multiple files \n",
    "    pr_ds = xr.open_mfdataset(f\"O:\\\\Man\\\\Public\\\\sharing-4270-CERM\\\\VLYMI\\\\Climex DK Domain\\\\pr_daily_bc_V2\\\\**\\\\pr_EUR{model}\")\n",
    "    \n",
    "    # Define smaller domain\n",
    "    # Define your latitude and longitude bounds\n",
    "    #lat_min, lat_max = 5.0, 5.3\n",
    "    #lon_min, lon_max = -5.6, -5.0\n",
    "\n",
    "    #Select domain\n",
    "    #pr_ds = pr_ds.sel(rlat=slice(lat_min, lat_max), rlon=slice(lon_min, lon_max))\n",
    "    \n",
    "    # Select data \n",
    "    pr_ds = pr_ds.sel(\n",
    "    time=(\n",
    "    (pr_ds[\"time\"].dt.year >= 1950) &  # Select years >= 1950\n",
    "    (pr_ds[\"time\"].dt.year <= 2024) & # Select years <= 2024 or 2050\n",
    "    #(pr_ds[\"time\"].dt.month >= 5) & #May\n",
    "    #(pr_ds[\"time\"].dt.month <= 9) #September\n",
    "        ), drop = True)\n",
    "    \n",
    "    #Create year variable\n",
    "    pr_ds['year'] = pr_ds['time'].dt.year\n",
    "        \n",
    "    #Compute Rx1day for each pixel for each year\n",
    "    pr_ds_max_per_pixel = pr_ds.groupby('year').max(dim=\"time\")\n",
    "    \n",
    "    #Find the maximum value across the spatial domain for each year\n",
    "    pr_ds_max_overall = pr_ds_max_per_pixel.max(dim=[\"rlat\", \"rlon\"]) \n",
    "        \n",
    "    #Save to dataframe\n",
    "    model_annual_max_df = pr_ds_max_overall.pr.to_dataframe().reset_index()\n",
    "    \n",
    "    combined_df = pd.merge(model_annual_max_df, GMST_df, on='year', how='inner')  \n",
    "\n",
    "    # Append the current combined_df to climex_df\n",
    "    climex_df = pd.concat([climex_df, combined_df], ignore_index = True)\n"
   ]
  },
  {
   "cell_type": "code",
   "execution_count": 18,
   "id": "064de1a6",
   "metadata": {},
   "outputs": [],
   "source": [
    "climex_df.to_csv('O:\\\\Man\\\\Public\\\\sharing-4270-CERM\\\\MATNEW\\\\CC_det_attr\\\\annual_max_pr_CLIMEXI_hist.csv', index=False, sep = ';') #change file name based on hist, fut, smaller domain, or May-Sept"
   ]
  },
  {
   "cell_type": "code",
   "execution_count": 9,
   "id": "1a4bbb4e",
   "metadata": {},
   "outputs": [
    {
     "data": {
      "text/html": [
       "<div>\n",
       "<style scoped>\n",
       "    .dataframe tbody tr th:only-of-type {\n",
       "        vertical-align: middle;\n",
       "    }\n",
       "\n",
       "    .dataframe tbody tr th {\n",
       "        vertical-align: top;\n",
       "    }\n",
       "\n",
       "    .dataframe thead th {\n",
       "        text-align: right;\n",
       "    }\n",
       "</style>\n",
       "<table border=\"1\" class=\"dataframe\">\n",
       "  <thead>\n",
       "    <tr style=\"text-align: right;\">\n",
       "      <th></th>\n",
       "      <th>year</th>\n",
       "      <th>pr</th>\n",
       "      <th>tas</th>\n",
       "    </tr>\n",
       "  </thead>\n",
       "  <tbody>\n",
       "    <tr>\n",
       "      <th>69</th>\n",
       "      <td>2024</td>\n",
       "      <td>42.628880</td>\n",
       "      <td>1.665245</td>\n",
       "    </tr>\n",
       "    <tr>\n",
       "      <th>139</th>\n",
       "      <td>2024</td>\n",
       "      <td>36.443687</td>\n",
       "      <td>1.538628</td>\n",
       "    </tr>\n",
       "    <tr>\n",
       "      <th>209</th>\n",
       "      <td>2024</td>\n",
       "      <td>52.558857</td>\n",
       "      <td>1.603256</td>\n",
       "    </tr>\n",
       "    <tr>\n",
       "      <th>279</th>\n",
       "      <td>2024</td>\n",
       "      <td>40.106598</td>\n",
       "      <td>1.594391</td>\n",
       "    </tr>\n",
       "    <tr>\n",
       "      <th>349</th>\n",
       "      <td>2024</td>\n",
       "      <td>34.423065</td>\n",
       "      <td>1.587959</td>\n",
       "    </tr>\n",
       "    <tr>\n",
       "      <th>419</th>\n",
       "      <td>2024</td>\n",
       "      <td>37.700298</td>\n",
       "      <td>1.600197</td>\n",
       "    </tr>\n",
       "    <tr>\n",
       "      <th>489</th>\n",
       "      <td>2024</td>\n",
       "      <td>37.362091</td>\n",
       "      <td>1.707077</td>\n",
       "    </tr>\n",
       "    <tr>\n",
       "      <th>559</th>\n",
       "      <td>2024</td>\n",
       "      <td>23.701973</td>\n",
       "      <td>1.554192</td>\n",
       "    </tr>\n",
       "    <tr>\n",
       "      <th>629</th>\n",
       "      <td>2024</td>\n",
       "      <td>36.761978</td>\n",
       "      <td>1.576195</td>\n",
       "    </tr>\n",
       "    <tr>\n",
       "      <th>699</th>\n",
       "      <td>2024</td>\n",
       "      <td>35.977421</td>\n",
       "      <td>1.634705</td>\n",
       "    </tr>\n",
       "    <tr>\n",
       "      <th>769</th>\n",
       "      <td>2024</td>\n",
       "      <td>73.906113</td>\n",
       "      <td>1.522179</td>\n",
       "    </tr>\n",
       "    <tr>\n",
       "      <th>839</th>\n",
       "      <td>2024</td>\n",
       "      <td>38.145432</td>\n",
       "      <td>1.703499</td>\n",
       "    </tr>\n",
       "    <tr>\n",
       "      <th>909</th>\n",
       "      <td>2024</td>\n",
       "      <td>49.617477</td>\n",
       "      <td>1.579842</td>\n",
       "    </tr>\n",
       "    <tr>\n",
       "      <th>979</th>\n",
       "      <td>2024</td>\n",
       "      <td>43.094650</td>\n",
       "      <td>1.569893</td>\n",
       "    </tr>\n",
       "    <tr>\n",
       "      <th>1049</th>\n",
       "      <td>2024</td>\n",
       "      <td>34.664143</td>\n",
       "      <td>1.522354</td>\n",
       "    </tr>\n",
       "    <tr>\n",
       "      <th>1119</th>\n",
       "      <td>2024</td>\n",
       "      <td>46.274353</td>\n",
       "      <td>1.648201</td>\n",
       "    </tr>\n",
       "    <tr>\n",
       "      <th>1189</th>\n",
       "      <td>2024</td>\n",
       "      <td>26.408112</td>\n",
       "      <td>1.593124</td>\n",
       "    </tr>\n",
       "    <tr>\n",
       "      <th>1259</th>\n",
       "      <td>2024</td>\n",
       "      <td>32.286995</td>\n",
       "      <td>1.573105</td>\n",
       "    </tr>\n",
       "    <tr>\n",
       "      <th>1329</th>\n",
       "      <td>2024</td>\n",
       "      <td>33.863953</td>\n",
       "      <td>1.599525</td>\n",
       "    </tr>\n",
       "    <tr>\n",
       "      <th>1399</th>\n",
       "      <td>2024</td>\n",
       "      <td>42.129009</td>\n",
       "      <td>1.643776</td>\n",
       "    </tr>\n",
       "    <tr>\n",
       "      <th>1469</th>\n",
       "      <td>2024</td>\n",
       "      <td>37.310139</td>\n",
       "      <td>1.688805</td>\n",
       "    </tr>\n",
       "    <tr>\n",
       "      <th>1539</th>\n",
       "      <td>2024</td>\n",
       "      <td>36.918488</td>\n",
       "      <td>1.610512</td>\n",
       "    </tr>\n",
       "    <tr>\n",
       "      <th>1609</th>\n",
       "      <td>2024</td>\n",
       "      <td>28.950808</td>\n",
       "      <td>1.587036</td>\n",
       "    </tr>\n",
       "    <tr>\n",
       "      <th>1679</th>\n",
       "      <td>2024</td>\n",
       "      <td>36.251339</td>\n",
       "      <td>1.602806</td>\n",
       "    </tr>\n",
       "    <tr>\n",
       "      <th>1749</th>\n",
       "      <td>2024</td>\n",
       "      <td>56.545380</td>\n",
       "      <td>1.726830</td>\n",
       "    </tr>\n",
       "    <tr>\n",
       "      <th>1819</th>\n",
       "      <td>2024</td>\n",
       "      <td>38.628139</td>\n",
       "      <td>1.657372</td>\n",
       "    </tr>\n",
       "    <tr>\n",
       "      <th>1889</th>\n",
       "      <td>2024</td>\n",
       "      <td>30.507294</td>\n",
       "      <td>1.693008</td>\n",
       "    </tr>\n",
       "    <tr>\n",
       "      <th>1959</th>\n",
       "      <td>2024</td>\n",
       "      <td>31.778309</td>\n",
       "      <td>1.605980</td>\n",
       "    </tr>\n",
       "    <tr>\n",
       "      <th>2029</th>\n",
       "      <td>2024</td>\n",
       "      <td>32.057381</td>\n",
       "      <td>1.655624</td>\n",
       "    </tr>\n",
       "    <tr>\n",
       "      <th>2099</th>\n",
       "      <td>2024</td>\n",
       "      <td>50.292389</td>\n",
       "      <td>1.593521</td>\n",
       "    </tr>\n",
       "    <tr>\n",
       "      <th>2169</th>\n",
       "      <td>2024</td>\n",
       "      <td>42.330235</td>\n",
       "      <td>1.509247</td>\n",
       "    </tr>\n",
       "    <tr>\n",
       "      <th>2239</th>\n",
       "      <td>2024</td>\n",
       "      <td>51.517586</td>\n",
       "      <td>1.562561</td>\n",
       "    </tr>\n",
       "    <tr>\n",
       "      <th>2309</th>\n",
       "      <td>2024</td>\n",
       "      <td>29.617994</td>\n",
       "      <td>1.572777</td>\n",
       "    </tr>\n",
       "    <tr>\n",
       "      <th>2379</th>\n",
       "      <td>2024</td>\n",
       "      <td>84.686699</td>\n",
       "      <td>1.722427</td>\n",
       "    </tr>\n",
       "    <tr>\n",
       "      <th>2449</th>\n",
       "      <td>2024</td>\n",
       "      <td>49.327728</td>\n",
       "      <td>1.620964</td>\n",
       "    </tr>\n",
       "    <tr>\n",
       "      <th>2519</th>\n",
       "      <td>2024</td>\n",
       "      <td>46.739979</td>\n",
       "      <td>1.624077</td>\n",
       "    </tr>\n",
       "    <tr>\n",
       "      <th>2589</th>\n",
       "      <td>2024</td>\n",
       "      <td>63.627090</td>\n",
       "      <td>1.624611</td>\n",
       "    </tr>\n",
       "    <tr>\n",
       "      <th>2659</th>\n",
       "      <td>2024</td>\n",
       "      <td>47.971054</td>\n",
       "      <td>1.678314</td>\n",
       "    </tr>\n",
       "    <tr>\n",
       "      <th>2729</th>\n",
       "      <td>2024</td>\n",
       "      <td>35.571766</td>\n",
       "      <td>1.596039</td>\n",
       "    </tr>\n",
       "    <tr>\n",
       "      <th>2799</th>\n",
       "      <td>2024</td>\n",
       "      <td>105.069305</td>\n",
       "      <td>1.589310</td>\n",
       "    </tr>\n",
       "    <tr>\n",
       "      <th>2869</th>\n",
       "      <td>2024</td>\n",
       "      <td>30.856600</td>\n",
       "      <td>1.737053</td>\n",
       "    </tr>\n",
       "    <tr>\n",
       "      <th>2939</th>\n",
       "      <td>2024</td>\n",
       "      <td>30.323298</td>\n",
       "      <td>1.706665</td>\n",
       "    </tr>\n",
       "    <tr>\n",
       "      <th>3009</th>\n",
       "      <td>2024</td>\n",
       "      <td>43.312954</td>\n",
       "      <td>1.669830</td>\n",
       "    </tr>\n",
       "    <tr>\n",
       "      <th>3079</th>\n",
       "      <td>2024</td>\n",
       "      <td>31.430492</td>\n",
       "      <td>1.551773</td>\n",
       "    </tr>\n",
       "    <tr>\n",
       "      <th>3149</th>\n",
       "      <td>2024</td>\n",
       "      <td>33.013321</td>\n",
       "      <td>1.515121</td>\n",
       "    </tr>\n",
       "    <tr>\n",
       "      <th>3219</th>\n",
       "      <td>2024</td>\n",
       "      <td>32.798363</td>\n",
       "      <td>1.501518</td>\n",
       "    </tr>\n",
       "    <tr>\n",
       "      <th>3289</th>\n",
       "      <td>2024</td>\n",
       "      <td>38.058372</td>\n",
       "      <td>1.548668</td>\n",
       "    </tr>\n",
       "    <tr>\n",
       "      <th>3359</th>\n",
       "      <td>2024</td>\n",
       "      <td>36.010853</td>\n",
       "      <td>1.618919</td>\n",
       "    </tr>\n",
       "    <tr>\n",
       "      <th>3429</th>\n",
       "      <td>2024</td>\n",
       "      <td>47.479893</td>\n",
       "      <td>1.629585</td>\n",
       "    </tr>\n",
       "    <tr>\n",
       "      <th>3499</th>\n",
       "      <td>2024</td>\n",
       "      <td>35.966015</td>\n",
       "      <td>1.665527</td>\n",
       "    </tr>\n",
       "  </tbody>\n",
       "</table>\n",
       "</div>"
      ],
      "text/plain": [
       "      year          pr       tas\n",
       "69    2024   42.628880  1.665245\n",
       "139   2024   36.443687  1.538628\n",
       "209   2024   52.558857  1.603256\n",
       "279   2024   40.106598  1.594391\n",
       "349   2024   34.423065  1.587959\n",
       "419   2024   37.700298  1.600197\n",
       "489   2024   37.362091  1.707077\n",
       "559   2024   23.701973  1.554192\n",
       "629   2024   36.761978  1.576195\n",
       "699   2024   35.977421  1.634705\n",
       "769   2024   73.906113  1.522179\n",
       "839   2024   38.145432  1.703499\n",
       "909   2024   49.617477  1.579842\n",
       "979   2024   43.094650  1.569893\n",
       "1049  2024   34.664143  1.522354\n",
       "1119  2024   46.274353  1.648201\n",
       "1189  2024   26.408112  1.593124\n",
       "1259  2024   32.286995  1.573105\n",
       "1329  2024   33.863953  1.599525\n",
       "1399  2024   42.129009  1.643776\n",
       "1469  2024   37.310139  1.688805\n",
       "1539  2024   36.918488  1.610512\n",
       "1609  2024   28.950808  1.587036\n",
       "1679  2024   36.251339  1.602806\n",
       "1749  2024   56.545380  1.726830\n",
       "1819  2024   38.628139  1.657372\n",
       "1889  2024   30.507294  1.693008\n",
       "1959  2024   31.778309  1.605980\n",
       "2029  2024   32.057381  1.655624\n",
       "2099  2024   50.292389  1.593521\n",
       "2169  2024   42.330235  1.509247\n",
       "2239  2024   51.517586  1.562561\n",
       "2309  2024   29.617994  1.572777\n",
       "2379  2024   84.686699  1.722427\n",
       "2449  2024   49.327728  1.620964\n",
       "2519  2024   46.739979  1.624077\n",
       "2589  2024   63.627090  1.624611\n",
       "2659  2024   47.971054  1.678314\n",
       "2729  2024   35.571766  1.596039\n",
       "2799  2024  105.069305  1.589310\n",
       "2869  2024   30.856600  1.737053\n",
       "2939  2024   30.323298  1.706665\n",
       "3009  2024   43.312954  1.669830\n",
       "3079  2024   31.430492  1.551773\n",
       "3149  2024   33.013321  1.515121\n",
       "3219  2024   32.798363  1.501518\n",
       "3289  2024   38.058372  1.548668\n",
       "3359  2024   36.010853  1.618919\n",
       "3429  2024   47.479893  1.629585\n",
       "3499  2024   35.966015  1.665527"
      ]
     },
     "execution_count": 9,
     "metadata": {},
     "output_type": "execute_result"
    }
   ],
   "source": [
    "climex_df[climex_df['year'] == 2024]"
   ]
  },
  {
   "cell_type": "code",
   "execution_count": 19,
   "id": "5ee1dd20",
   "metadata": {},
   "outputs": [
    {
     "data": {
      "image/png": "[encoded data removed]",
      "text/plain": [
       "<Figure size 800x600 with 1 Axes>"
      ]
     },
     "metadata": {},
     "output_type": "display_data"
    }
   ],
   "source": [
    "# Create the plot\n",
    "plt.figure(figsize=(8, 6))\n",
    "plt.scatter(climex_df.tas, climex_df.pr, color='blue', marker = 'o', label='Rx1day')\n",
    "\n",
    "# Adding labels and title\n",
    "plt.xlabel('Year')\n",
    "plt.ylabel('Annual Max Precipitation (mm)')\n",
    "\n",
    "# Add a legend\n",
    "plt.legend()\n",
    "\n",
    "# Show the plot\n",
    "plt.grid(True)\n",
    "plt.tight_layout()\n",
    "plt.show()"
   ]
  },
  {
   "cell_type": "code",
   "execution_count": null,
   "id": "f87ecf43",
   "metadata": {},
   "outputs": [],
   "source": []
  }
 ],
 "metadata": {
  "kernelspec": {
   "display_name": "Python (3.11.9)",
   "language": "python",
   "name": "python-3.11.9"
  },
  "language_info": {
   "codemirror_mode": {
    "name": "ipython",
    "version": 3
   },
   "file_extension": ".py",
   "mimetype": "text/x-python",
   "name": "python",
   "nbconvert_exporter": "python",
   "pygments_lexer": "ipython3",
   "version": "3.10.7"
  }
 },
 "nbformat": 4,
 "nbformat_minor": 5
}
