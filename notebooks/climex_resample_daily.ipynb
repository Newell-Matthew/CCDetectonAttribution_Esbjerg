{
 "cells": [
  {
   "cell_type": "code",
   "execution_count": 1,
   "id": "01f7e35d-15e6-4706-9ef2-d47f5e310262",
   "metadata": {},
   "outputs": [
    {
     "name": "stderr",
     "output_type": "stream",
     "text": [
      "C:\\Users\\mnew\\AppData\\Local\\anaconda3\\envs\\CLIMEX_BC_v2\\Lib\\site-packages\\xclim\\core\\units.py:19: UserWarning: Import(s) unavailable to set up matplotlib support...skipping this portion of the setup.\n",
      "  import cf_xarray.units\n"
     ]
    }
   ],
   "source": [
    "import os\n",
    "import xclim\n",
    "import xarray as xr\n",
    "import cftime\n",
    "import glob"
   ]
  },
  {
   "cell_type": "code",
   "execution_count": 2,
   "id": "a436a739-3357-4b85-a349-aa476d6ed9e1",
   "metadata": {},
   "outputs": [],
   "source": [
    "# Define a function to standardize time\n",
    "def standardize_time(ds):\n",
    "    \"\"\"\n",
    "    Decode and standardize the time variable for a single dataset.\n",
    "    \"\"\"\n",
    "    if 'time' in ds.variables:\n",
    "        # Get the time attributes\n",
    "        time_units = ds.time.attrs.get('units', None)\n",
    "        calendar = ds.time.attrs.get('calendar', 'standard')\n",
    "        \n",
    "        # Decode the time variable\n",
    "        if time_units is not None:\n",
    "            decoded_times = cftime.num2date(ds.time.values, units=time_units, calendar=calendar)\n",
    "        \n",
    "        # Assign back to the dataset\n",
    "        ds['time'] = ('time', decoded_times)\n",
    "\n",
    "    return ds"
   ]
  },
  {
   "cell_type": "code",
   "execution_count": 3,
   "id": "a53d1a14-faf4-4fc1-8033-efa0f6013888",
   "metadata": {},
   "outputs": [],
   "source": [
    "#File to correct 'time' and 'time_bnds'\n",
    "model_correct_time = xr.open_dataset(\"O:\\\\Public\\\\sharing-4270-CERM\\\\VLYMI\\\\Climex DK Domain\\\\pr\\\\kba\\\\pr_EUR-11_CCCma-CanESM2_historical_r1-r1i1p1_OURANOS-CRCM5_kba_1h_1955-2100.nc\" , decode_times=False)"
   ]
  },
  {
   "cell_type": "code",
   "execution_count": 4,
   "id": "569a0a55-b131-484c-b984-c699a6abfc1b",
   "metadata": {},
   "outputs": [],
   "source": [
    "# Ensembles of CLIMEX1\n",
    "string = 'kbi  kbh  kbg  kbf  kbe  kbd  kbc  kbb  kba  kcx  kcw  kcv  kcu  kct  kcs  kcr  kcq  kcp  kco  kcn  kcm  kcl  kck  kcj  kci  kch  kcg  kcf  kce  kcd  kcc  kcb  kca  kbz  kby  kbx  kbw  kbv  kbu  kbt  kbs  kbr  kbq  kbp  kbo  kbn  kbm  kbl  kbk  kbj  '\n",
    "ensembles = string.split( )\n",
    "ensembles.sort()"
   ]
  },
  {
   "cell_type": "code",
   "execution_count": 5,
   "id": "11e40f73-760d-494c-a0e4-795fb8999c16",
   "metadata": {},
   "outputs": [],
   "source": [
    "# Paths\n",
    "input_path = \"O:\\\\Public\\\\sharing-4270-CERM\\\\VLYMI\\\\CLIMEX DK Domain\\\\pr\\\\\"\n",
    "output_path = \"O:\\\\Public\\\\sharing-4270-CERM\\\\VLYMI\\\\CLIMEX DK Domain\\\\pr_daily\\\\\""
   ]
  },
  {
   "cell_type": "code",
   "execution_count": 1,
   "id": "ea2c2b19-43d6-4e56-9a75-72ab5e182c99",
   "metadata": {},
   "outputs": [
    {
     "ename": "NameError",
     "evalue": "name 'ensembles' is not defined",
     "output_type": "error",
     "traceback": [
      "\u001b[1;31m---------------------------------------------------------------------------\u001b[0m",
      "\u001b[1;31mNameError\u001b[0m                                 Traceback (most recent call last)",
      "File \u001b[1;32m<timed exec>:1\u001b[0m\n",
      "\u001b[1;31mNameError\u001b[0m: name 'ensembles' is not defined"
     ]
    }
   ],
   "source": [
    "%%time\n",
    "for i, ens in enumerate(ensembles):\n",
    "    print(ens)\n",
    "    \n",
    "    file = glob.glob(input_path + ens + \"/pr_*\")\n",
    "    \n",
    "    print(file)\n",
    "    \n",
    "    #Grab ensembler member\n",
    "    model = xr.open_dataset(file[0], decode_times=False)\n",
    "    \n",
    "    #Fix time dimensions\n",
    "    model['time'] = model_correct_time['time']\n",
    "    model['time_bnds']= model_correct_time['time_bnds']\n",
    "\n",
    "    model=standardize_time(model)\n",
    "    model[\"time\"] = model[\"time\"].indexes.to_datetimeindex()\n",
    "\n",
    "    #Select time period of interest\n",
    "    #model = model.sel(time=slice(\"1981-01-01\", \"2025-12-31\"))\n",
    "    \n",
    "    #Compute daily sums \n",
    "    model_daily= model['pr'].resample(time='1D').sum()\n",
    "    print(\"Finished resampling time.\")\n",
    "\n",
    "    #Convert to mm/day (don't need to multiple by 24 since the data is summed across all hourly timesteps)\n",
    "    model_daily = model_daily*3600\n",
    "\n",
    "    #Create output directory\n",
    "    output_dir = f\"{output_path}{ens}\"\n",
    "    \n",
    "    #Create folder path in directroy\n",
    "    if not os.path.exists(output_dir):\n",
    "        os.makedirs(output_dir)\n",
    "        \n",
    "    #Grab model name string\n",
    "    match = re.search(r'pr_.*?-CRCM5', file[0])\n",
    "    \n",
    "    name = match.group(0)\n",
    "\n",
    "    #Save final output name\n",
    "    output_path_sf = os.path.join(output_dir, f\"{name}_{ens}_day_1955_2100.nc\")\n",
    "\n",
    "    #Export NetCDF\n",
    "    model_daily.to_netcdf(output_path_sf)\n"
   ]
  },
  {
   "cell_type": "code",
   "execution_count": null,
   "id": "d046aac0-6826-451f-acd9-99ad03db6fae",
   "metadata": {},
   "outputs": [],
   "source": []
  }
 ],
 "metadata": {
  "kernelspec": {
   "display_name": "CLIMEX_BC_v2",
   "language": "python",
   "name": "climex_bc_v2"
  },
  "language_info": {
   "codemirror_mode": {
    "name": "ipython",
    "version": 3
   },
   "file_extension": ".py",
   "mimetype": "text/x-python",
   "name": "python",
   "nbconvert_exporter": "python",
   "pygments_lexer": "ipython3",
   "version": "3.13.2"
  }
 },
 "nbformat": 4,
 "nbformat_minor": 5
}
