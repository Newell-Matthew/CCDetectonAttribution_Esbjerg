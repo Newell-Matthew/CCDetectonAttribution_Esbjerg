{
 "cells": [
  {
   "cell_type": "code",
   "execution_count": 13,
   "id": "3b54104f",
   "metadata": {},
   "outputs": [],
   "source": [
    "import xclim\n",
    "import xarray as xr\n",
    "import cftime\n",
    "import xclim.sdba as sdba\n",
    "import glob\n",
    "import re"
   ]
  },
  {
   "cell_type": "code",
   "execution_count": 2,
   "id": "88190d41",
   "metadata": {},
   "outputs": [],
   "source": [
    "# Define a function to standardize time\n",
    "def standardize_time(ds):\n",
    "    \"\"\"\n",
    "    Decode and standardize the time variable for a single dataset.\n",
    "    \"\"\"\n",
    "    if 'time' in ds.variables:\n",
    "        # Get the time attributes\n",
    "        time_units = ds.time.attrs.get('units', None)\n",
    "        calendar = ds.time.attrs.get('calendar', 'standard')\n",
    "        \n",
    "        # Decode the time variable\n",
    "        if time_units is not None:\n",
    "            decoded_times = cftime.num2date(ds.time.values, units=time_units, calendar=calendar)\n",
    "        \n",
    "        # Assign back to the dataset\n",
    "        ds['time'] = ('time', decoded_times)\n",
    "\n",
    "    return ds"
   ]
  },
  {
   "cell_type": "code",
   "execution_count": 3,
   "id": "b44b5af9",
   "metadata": {},
   "outputs": [],
   "source": [
    "observations = xr.open_dataset('O:\\\\Man\\\\Public\\\\sharing-4270-CERM\\\\MATNEW\\\\Observation NetCDF\\\\pr_10km_1989_2019_remapnn_CLIMEX.nc')\n",
    "observations = observations.rename({\"Pr\": \"pr\"})"
   ]
  },
  {
   "cell_type": "code",
   "execution_count": null,
   "id": "3847b396",
   "metadata": {},
   "outputs": [],
   "source": [
    "#File to correct 'time' and 'time_bnds'\n",
    "model_correct_time = xr.open_dataset(\"O:\\\\Man\\\\Public\\\\sharing-4270-CERM\\\\VLYMI\\\\Climex DK Domain\\\\pr\\\\kba\\\\pr_EUR-11_CCCma-CanESM2_historical_r1-r1i1p1_OURANOS-CRCM5_kba_1h_1955-2100.nc\" , decode_times=False)"
   ]
  },
  {
   "cell_type": "code",
   "execution_count": 4,
   "id": "3752eb35",
   "metadata": {},
   "outputs": [],
   "source": [
    "#Create mask to match pixels between datasets\n",
    "mask = xr.where(observations.sel(time='1989-01-02').notnull(), 1, 0)"
   ]
  },
  {
   "cell_type": "code",
   "execution_count": 5,
   "id": "4425525e",
   "metadata": {},
   "outputs": [],
   "source": [
    "# Ensembles of CLIMEX1\n",
    "string = 'kbi  kbh  kbg  kbf  kbe  kbd  kbc  kbb  kba  kcx  kcw  kcv  kcu  kct  kcs  kcr  kcq  kcp  kco  kcn  kcm  kcl  kck  kcj  kci  kch  kcg  kcf  kce  kcd  kcc  kcb  kca  kbz  kby  kbx  kbw  kbv  kbu  kbt  kbs  kbr  kbq  kbp  kbo  kbn  kbm  kbl  kbk  kbj  '\n",
    "ensembles = string.split( )\n",
    "ensembles.sort()"
   ]
  },
  {
   "cell_type": "code",
   "execution_count": 6,
   "id": "74a50996",
   "metadata": {},
   "outputs": [],
   "source": [
    "# Paths\n",
    "input_path = \"O:\\\\Man\\\\Public\\\\sharing-4270-CERM\\\\VLYMI\\\\CLIMEX DK Domain\\\\pr\\\\\"\n",
    "output_path = \"O:\\\\Man\\\\Public\\\\sharing-4270-CERM\\\\VLYMI\\\\CLIMEX DK Domain\\\\pr_bc\\\\\""
   ]
  },
  {
   "cell_type": "code",
   "execution_count": 11,
   "id": "25fd09b4",
   "metadata": {},
   "outputs": [
    {
     "name": "stdout",
     "output_type": "stream",
     "text": [
      "kba\n",
      "['O:\\\\Man\\\\Public\\\\sharing-4270-CERM\\\\VLYMI\\\\CLIMEX DK Domain\\\\pr\\\\kba\\\\pr_EUR-11_CCCma-CanESM2_historical_r1-r1i1p1_OURANOS-CRCM5_kba_1h_1955-2100.nc']\n",
      "CPU times: total: 0 ns\n",
      "Wall time: 14.5 ms\n"
     ]
    }
   ],
   "source": [
    "%%time\n",
    "for i, ens in enumerate(ensembles):\n",
    "    print(ens)\n",
    "    \n",
    "    file = glob.glob(input_path + ens + \"/pr_*\")\n",
    "    \n",
    "    print(file)\n",
    "    \n",
    "    break\n",
    "    \n",
    "    #Grab ensembler member\n",
    "    model = xr.open_dataset(file , decode_times=False)\n",
    "    \n",
    "    #Fix time dimensions\n",
    "    model['time'] = model_correct_time['time']\n",
    "    model['time_bnds']= model_correct_time['time_bnds']\n",
    "    \n",
    "    #Modify time dimension\n",
    "    model = standardize_time(model)\n",
    "    model[\"time\"] = model.indexes[\"time\"].to_datetimeindex()\n",
    "    \n",
    "    #Select time period of interest\n",
    "    model = model.sel(time=slice(\"1981-01-01\", \"2025-12-31\"))\n",
    "    \n",
    "    #Compute daily sums \n",
    "    model_daily= model['pr'].resample(time='1D').sum()\n",
    "    \n",
    "    #Drop variable to free up RAM\n",
    "    del model\n",
    "    \n",
    "    #Convert to mm/day (don't need to multiple by 24 since the data is summed across all hourly timesteps)\n",
    "    model_daily = model_daily*3600\n",
    "    \n",
    "    #Mask the model data\n",
    "    mask_expanded_model = mask.expand_dims(time=model_daily.time)\n",
    "    model_daily = model_daily.where(mask_expanded_model)\n",
    "    \n",
    "    #Select the calibration periods and period to apply bias correction\n",
    "    model_calib = model_daily.sel(time=slice(\"1989-01-02\", \"2019-12-31\"))['pr']\n",
    "    obs_calib = observations['pr']\n",
    "    model_bc = model_daily['pr']\n",
    "    \n",
    "    #Set the units \n",
    "    model_calib.attrs['units'] = 'mm/day'\n",
    "    obs_calib.attrs['units'] = 'mm/day'\n",
    "    model_bc.attrs['units'] = 'mm/day'\n",
    "    \n",
    "    #Apply QDM bias correction \n",
    "    qdm = sdba.QuantileDeltaMapping.train(ref=obs_calib, hist=model_calib, group = 'time')\n",
    "    corrected_qdm = qdm.adjust(model_bc)\n",
    "    \n",
    "    # Apply EVT (GPD) to the tails (extremes) of data\n",
    "    extremes = sdba.ExtremeValues.train(ref=obs_calib, hist=model_calib,q_thresh=0.95, cluster_thresh = \"7.5 mm/day\")\n",
    "    corrected_with_extremes = extremes.adjust(sim = model_bc, scen = corrected_qdm)\n",
    "    \n",
    "    #Remove drizzle effect in RCM outputs \n",
    "    corrected_with_extremes.values[corrected_with_extremes.values <= 0.3] = 0\n",
    "    \n",
    "    #Transpose the datarray (fix issue with BC method switching position of latitude and longitude)\n",
    "    corrected_with_extremes = corrected_with_extremes.transpose(\"time\", \"rlat\", \"rlon\")\n",
    "    \n",
    "    #Rename variable from 'scen' to 'pr'\n",
    "    corrected_with_extremes = corrected_with_extremes.rename(\"pr\")\n",
    "    \n",
    "    #Create output directory\n",
    "    output_dir = f\"{output_path}{ens}\"\n",
    "    \n",
    "    #Create folder path in directroy\n",
    "    if not os.path.exists(output_dir):\n",
    "        os.makedirs(output_dir)\n",
    "        \n",
    "    #Grab model name string\n",
    "    match = re.search(r'pr_.*?-CRCM5', file[0])\n",
    "    \n",
    "    name = match.group(0)\n",
    "    \n",
    "    #Save final output name\n",
    "    output_path = os.path.join(output_dir, f\"{name}_{ens}_day_1981-2025_BC.nc\")\n",
    "    \n",
    "    #Export NetCDF\n",
    "    corrected_with_extremes.to_netCDF(output_path)"
   ]
  },
  {
   "cell_type": "code",
   "execution_count": null,
   "id": "ec215737",
   "metadata": {},
   "outputs": [],
   "source": []
  }
 ],
 "metadata": {
  "kernelspec": {
   "display_name": "Python (3.11.9)",
   "language": "python",
   "name": "python-3.11.9"
  },
  "language_info": {
   "codemirror_mode": {
    "name": "ipython",
    "version": 3
   },
   "file_extension": ".py",
   "mimetype": "text/x-python",
   "name": "python",
   "nbconvert_exporter": "python",
   "pygments_lexer": "ipython3",
   "version": "3.10.7"
  }
 },
 "nbformat": 4,
 "nbformat_minor": 5
}
